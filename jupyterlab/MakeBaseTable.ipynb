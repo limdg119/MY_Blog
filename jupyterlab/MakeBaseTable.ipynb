{
 "cells": [
  {
   "cell_type": "markdown",
   "id": "08644fc0",
   "metadata": {},
   "source": [
    "# Base Table 만들기"
   ]
  },
  {
   "cell_type": "markdown",
   "id": "4777d94d",
   "metadata": {},
   "source": [
    "## 0. 라이브러리 설치 및 데이터 불러오기"
   ]
  },
  {
   "cell_type": "code",
   "execution_count": 1,
   "id": "dac494ab",
   "metadata": {},
   "outputs": [],
   "source": [
    "# 필요 라이브러리 설치\n",
    "import numpy as np\n",
    "import pandas as pd"
   ]
  },
  {
   "cell_type": "code",
   "execution_count": 2,
   "id": "52d1f6ae",
   "metadata": {},
   "outputs": [
    {
     "name": "stderr",
     "output_type": "stream",
     "text": [
      "/var/folders/fs/zfypqyv96hs22x794hfx0ycm0000gn/T/ipykernel_13528/235597709.py:2: DtypeWarning: Columns (2,4,5,8,13,16,17,18,19,24) have mixed types. Specify dtype option on import or set low_memory=False.\n",
      "  data = pd.read_csv('/Users/limdonggeon/Desktop/KPMG/Work/Law/data/main_data.csv')\n"
     ]
    }
   ],
   "source": [
    "# 데이터 load\n",
    "data = pd.read_csv('/Users/limdonggeon/Desktop/KPMG/Work/Law/data/main_data.csv')"
   ]
  },
  {
   "cell_type": "code",
   "execution_count": 3,
   "metadata": {},
   "outputs": [
    {
     "name": "stdout",
     "output_type": "stream",
     "text": [
      "<class 'pandas.core.frame.DataFrame'>\n",
      "RangeIndex: 861719 entries, 0 to 861718\n",
      "Data columns (total 25 columns):\n",
      " #   Column     Non-Null Count   Dtype  \n",
      "---  ------     --------------   -----  \n",
      " 0   소관부처명      861666 non-null  object \n",
      " 1   법령명        861702 non-null  object \n",
      " 2   법령구분       861704 non-null  object \n",
      " 3   조번호        861129 non-null  object \n",
      " 4   항번호        666590 non-null  object \n",
      " 5   호번호        504904 non-null  object \n",
      " 6   조문제목       805869 non-null  object \n",
      " 7   조문         848856 non-null  object \n",
      " 8   사무판단       767124 non-null  object \n",
      " 9   사무판단근거     700871 non-null  object \n",
      " 10  사무명        60113 non-null   object \n",
      " 11  수행주체       60116 non-null   object \n",
      " 12  사무유형       60071 non-null   object \n",
      " 13  위임사무판단     761139 non-null  object \n",
      " 14  위임근거규정     5311 non-null    object \n",
      " 15  수임기관       4416 non-null    object \n",
      " 16  특행기관       93089 non-null   object \n",
      " 17  재위임사무판단    702502 non-null  object \n",
      " 18  재위임근거규정    54 non-null      object \n",
      " 19  재수임기관      13 non-null      object \n",
      " 20  위탁사무판단     758703 non-null  float64\n",
      " 21  위탁근거규정     3975 non-null    object \n",
      " 22  수탁기관       3952 non-null    object \n",
      " 23  사무유형(소분류)  60114 non-null   object \n",
      " 24  기타         3 non-null       object \n",
      "dtypes: float64(1), object(24)\n",
      "memory usage: 164.4+ MB\n"
     ]
    }
   ],
   "source": [
    "data.info()"
   ]
  },
  {
   "cell_type": "markdown",
   "metadata": {},
   "source": [
    "# 1. 데이터 전처리"
   ]
  },
  {
   "cell_type": "markdown",
   "metadata": {},
   "source": [
    "## 1) 설명변수(소관부처명, 법령명, 조번호, 항번호, 호번호, 조문제목, 조문)가 모두 결측치인 행 삭제"
   ]
  },
  {
   "cell_type": "markdown",
   "id": "efb19295",
   "metadata": {},
   "source": [
    "##"
   ]
  },
  {
   "cell_type": "code",
   "execution_count": 4,
   "id": "51e4c81c",
   "metadata": {},
   "outputs": [],
   "source": [
    "def x_null_drop(df): \n",
    "    select_column = ['소관부처명', '법령명', '조번호', '항번호', '호번호', '조문제목', '조문']\n",
    "    delete_row_idx = list(df[df[select_column].isnull().all(axis = 1)].index)\n",
    "    delete_row_idx.sort(reverse = True)\n",
    "    for i in delete_row_idx:\n",
    "        df = df.drop([i],axis = 0)\n",
    "    return df"
   ]
  },
  {
   "cell_type": "code",
   "execution_count": 5,
   "metadata": {},
   "outputs": [],
   "source": [
    "data = x_null_drop(data)"
   ]
  },
  {
   "cell_type": "markdown",
   "id": "09adac58",
   "metadata": {},
   "source": [
    "##"
   ]
  },
  {
   "cell_type": "markdown",
   "id": "46f57305",
   "metadata": {},
   "source": [
    "## 2) 소관부처명 결측치 처리"
   ]
  },
  {
   "cell_type": "markdown",
   "id": "2fe8533b",
   "metadata": {},
   "source": [
    "- 소관부처명 결측치: 45개\n",
    "- 동일한 법령에 대해서는 동일한 소관부처를 가짐\n",
    "- 이에, 다른 행 중 동일한 법령을 지닌 소관부처 파악 후 결측치 채워줌"
   ]
  },
  {
   "cell_type": "code",
   "execution_count": 6,
   "id": "3dd6d75d",
   "metadata": {},
   "outputs": [],
   "source": [
    "def dep_law_preprocessing(df):\n",
    "        # department_idx: '법령명'은 채워져있는데 '소관부처명'은 채워져있지 않은 행의 index\n",
    "        department_idx = df[df['소관부처명'].isnull() & df['법령명'].notnull()].index\n",
    "        # department_name_list: '소관부처명'이 채워져야할 법령명\n",
    "        department_name_list = df[df['소관부처명'].isnull() & df['법령명'].notnull()]['법령명'].unique()\n",
    "\n",
    "        department_dic = {}\n",
    "        department_dic['건설산업기본법'] = '국토교통부'\n",
    "        department_dic['보건범죄단속에관한특별조치법시행령'] = '보건복지부'\n",
    "        department_dic['항로표지법'] = '해양수산부'\n",
    "        department_dic['수산자원관리법'] = '해양수산부'\n",
    "        department_dic['연안관리법'] = '해양수산부'\n",
    "        department_dic['야생생물 보호 및 관리에 관한 법률'] = '환경부'\n",
    "\n",
    "        for i in range(len(department_idx)):\n",
    "                for j in range(len(department_name_list)):\n",
    "                        df.loc[department_idx[i],'소관부처명'] = department_dic[department_name_list[j]]\n",
    "\n",
    "        # '소관부처명', '법령명' 모두 채워져있지 않은 행\n",
    "        \n",
    "        return df"
   ]
  },
  {
   "cell_type": "code",
   "execution_count": 7,
   "metadata": {},
   "outputs": [],
   "source": [
    "data = dep_law_preprocessing(data)"
   ]
  },
  {
   "cell_type": "markdown",
   "id": "694c863a",
   "metadata": {},
   "source": [
    "## 3) 법령명 결측치 처리"
   ]
  },
  {
   "cell_type": "markdown",
   "metadata": {},
   "source": [
    "- 조, 항, 조문 통해 법령명 찾아 삽입"
   ]
  },
  {
   "cell_type": "code",
   "execution_count": 8,
   "metadata": {},
   "outputs": [],
   "source": [
    "def law_name_preprocessing(df):\n",
    "    idx = 14168\n",
    "    df.loc[idx,'소관부처명'] = '고용노동부'\n",
    "    df.loc[idx,'법령명'] = '근로자퇴직급여 보장법'\n",
    "    df.loc[idx,'법령구분'] = 1\n",
    "\n",
    "    idx = 198519\n",
    "    df.loc[idx,'소관부처명'] = '국토교통부'\n",
    "    df.loc[idx,'법령명'] = '택수운송사업의 발전에 관한 법률'\n",
    "    df.loc[idx,'법령구분'] = 1\n",
    "    df.loc[idx,'조번호'] = 11\n",
    "    df.loc[idx,'항번호'] = 1\n",
    "    df.loc[idx,'조문제목'] = '감차계획의 수립 및 시행 등'\n",
    "    idx = 686791\n",
    "    df.loc[idx,'소관부처명'] = '해양수산부'\n",
    "    df.loc[idx,'법령명'] = '수산업ㆍ어촌 공익기능 증진을 위한 직접지불제도 운영에 관한 법률'\n",
    "\n",
    "    idx = 708300\n",
    "    df.loc[idx,'소관부처명'] = '해양수산부'\n",
    "    df.loc[idx,'법령명'] = '해양공간계획 및 관리에 관한 법률'\n",
    "\n",
    "    idx = 708831\n",
    "    df.loc[idx,'소관부처명'] = '해양수산부'\n",
    "    df.loc[idx,'법령명'] = '해양폐기물 및 해양오염퇴적물 관리법'\n",
    "\n",
    "    idx = 766079\n",
    "    df.loc[idx,'소관부처명'] = '행정안전부'\n",
    "    df.loc[idx,'법령명'] = '새마을금고법'\n",
    "\n",
    "    idx = 859679\n",
    "    df.loc[idx,'소관부처명'] = '환경부'\n",
    "    df.loc[idx,'법령명'] = '미세먼지 저감 및 관리에 관한 특별법'\n",
    "\n",
    "    idx = 859692\n",
    "    df.loc[idx,'소관부처명'] = '환경부'\n",
    "    df.loc[idx,'법령명'] = '미세먼지 저감 및 관리에 관한 특별법'\n",
    "\n",
    "    idx = 859755\n",
    "    df.loc[idx,'소관부처명'] = '환경부'\n",
    "    df.loc[idx,'법령명'] = '미세먼지 저감 및 관리에 관한 특별법'\n",
    "    \n",
    "    return df"
   ]
  },
  {
   "cell_type": "code",
   "execution_count": 9,
   "metadata": {},
   "outputs": [],
   "source": [
    "data = law_name_preprocessing(data)"
   ]
  },
  {
   "cell_type": "markdown",
   "id": "6b0ae1e2",
   "metadata": {},
   "source": [
    "## 4) 법령구분 처리"
   ]
  },
  {
   "cell_type": "markdown",
   "metadata": {},
   "source": [
    "- 법령구분 결측치 처리\n",
    "- 법령구분 자료형 int로 통일"
   ]
  },
  {
   "cell_type": "code",
   "execution_count": 10,
   "id": "935d3a54",
   "metadata": {},
   "outputs": [],
   "source": [
    "def law_category_preprocessing(df):\n",
    "    # '법령구분'이 결측치인 행들의 index\n",
    "    null_idx = df[df['법령구분'].isnull()].index\n",
    "    # 국가법령정보센터 확인 결과, 결측치인 모든 행들은 법률, 즉 '1'에 해당\n",
    "    for i in null_idx:\n",
    "        df.loc[i,'법령구분'] = 1\n",
    "    \n",
    "    # 국가법령정보센터 확인 결과, '법령구분'이 공백으로 되어있는 행은 시행령, 즉 '2'에 해당\n",
    "    df.loc[df['법령구분']==' ', \"법령구분\"] = 2\n",
    "\n",
    "    # 법령구분 자료형 통일\n",
    "    df['법령구분'] = df['법령구분'].astype('int64')\n",
    "\n",
    "    return df"
   ]
  },
  {
   "cell_type": "code",
   "execution_count": 11,
   "metadata": {},
   "outputs": [],
   "source": [
    "data = law_category_preprocessing(data)"
   ]
  },
  {
   "cell_type": "markdown",
   "id": "ba2a8dae",
   "metadata": {},
   "source": [
    "## 5) 사무판단 처리"
   ]
  },
  {
   "cell_type": "markdown",
   "id": "11c7607c",
   "metadata": {},
   "source": [
    "- ' ' -> nan, '0' -> 0 , '1' -> 1, '0 1' -> 2 float 형태로 변환"
   ]
  },
  {
   "cell_type": "code",
   "execution_count": 12,
   "metadata": {},
   "outputs": [],
   "source": [
    "def decision_preprocessing(df):\n",
    "    # 표기방식 통일\n",
    "    idx_nan = df[(df['사무판단'] == ' ')].index #idx_nan: '사무판단'이 nan인 행의 index\n",
    "    for i in idx_nan:\n",
    "        df.loc[i,'사무판단'] = np.nan\n",
    "    idx_0 = df[(df['사무판단'] == '0')].index #idx_0: '사무판단'이 '0'인 행의 index\n",
    "    for i in idx_0:\n",
    "        df.loc[i,'사무판단'] = 0\n",
    "    idx_1 = df[(df['사무판단'] == '1')].index #idx_1: '사무판단'이 '1'인 행의 index\n",
    "    for i in idx_1:\n",
    "        df.loc[i,'사무판단'] = 1\n",
    "    idx_2 = df[(df['사무판단'] == '0 1')].index #idx_2: '사무판단'이 '0 1'인 행의 index\n",
    "    for i in idx_2:\n",
    "        df.loc[i,'사무판단'] = 2\n",
    "\n",
    "    # 오류 행 삭제\n",
    "    ## 경우1: 사무가 아님에도 사무 유형이 분류된 경우\n",
    "    delete_0_idx = list((df[(df['사무판단'] == 0)  & (df['사무유형(소분류)'].notna())]).index)\n",
    "    df = df.drop(delete_0_idx, axis = 0)\n",
    "    \n",
    "    ## 경우2: 사무임에도 사무 유형이 분류되지 않은 경우\n",
    "    delete_1_idx1 = list((df[(df['사무판단'] == 1)  & (df['사무유형'].isnull())]).index)\n",
    "    df = df.drop(delete_1_idx1, axis = 0)\n",
    "    \n",
    "    delete_1_idx2 = list((df[(df['사무판단'] == 1)  & (df['사무유형(소분류)'].isnull())]).index)\n",
    "    df = df.drop(delete_1_idx2, axis = 0)\n",
    "\n",
    "    # 결측행 처리\n",
    "    ## 경우1: 사무 유형이 분류된 경우 => '1'로 채움\n",
    "    change_1_idx = df[(df['사무판단'].isnull())  & (df['사무유형'].notna()) & (df['사무유형(소분류)'].notna())].index\n",
    "    df.loc[change_1_idx, '사무판단'] = 1\n",
    "    \n",
    "    # 경우2: 사무 유형이 분류되지 않은 경우 => '0'으로 채움\n",
    "    change_0_idx = df[(df['사무판단'].isnull())  & (df['사무유형'].isnull()) & (df['사무유형(소분류)'].isnull())].index\n",
    "    df.loc[change_0_idx,'사무판단'] = 0\n",
    "    \n",
    "    # 자료형 통일\n",
    "    df['사무판단'] = df['사무판단'].astype('int64')\n",
    "\n",
    "    return df"
   ]
  },
  {
   "cell_type": "code",
   "execution_count": 13,
   "metadata": {},
   "outputs": [],
   "source": [
    "data = decision_preprocessing(data)"
   ]
  },
  {
   "cell_type": "markdown",
   "metadata": {},
   "source": [
    "## 6) 소관부처명 공백 처리"
   ]
  },
  {
   "cell_type": "code",
   "execution_count": 14,
   "metadata": {},
   "outputs": [],
   "source": [
    "def blank_preprocessing(df):\n",
    "    df.loc[df['소관부처명']==\"교육부,\\n고용노동부\", \"소관부처명\"] = '고용노동부,교육부'\n",
    "    df.loc[df['소관부처명']==\"과학기술정보통신부, \\n교육부\", \"소관부처명\"] = '과학기술정보통신부,교육부'\n",
    "    df.loc[df['소관부처명']==\"교육부,\\n과학기술정보통신부\", \"소관부처명\"] = '과학기술정보통신부,교육부'\n",
    "    return df\n",
    "    "
   ]
  },
  {
   "cell_type": "code",
   "execution_count": 15,
   "metadata": {},
   "outputs": [],
   "source": [
    "data = blank_preprocessing(data)"
   ]
  },
  {
   "cell_type": "markdown",
   "metadata": {},
   "source": [
    "## 7) 조문, 조문 제목 결측치 처리"
   ]
  },
  {
   "cell_type": "markdown",
   "metadata": {},
   "source": [
    "- 조문, 조문 제목 null값이면 '0'으로 채움"
   ]
  },
  {
   "cell_type": "code",
   "execution_count": 16,
   "metadata": {},
   "outputs": [],
   "source": [
    "def law_preprocessing(df):\n",
    "    df.loc[df['조문제목'].isna(), '조문제목'] = '0'\n",
    "    df.loc[df['조문'].isna(), '조문'] = '0'\n",
    "    return df"
   ]
  },
  {
   "cell_type": "code",
   "execution_count": 17,
   "metadata": {},
   "outputs": [],
   "source": [
    "data = law_preprocessing(data)"
   ]
  }
 ],
 "metadata": {
  "kernelspec": {
   "display_name": "Python 3 (ipykernel)",
   "language": "python",
   "name": "python3"
  },
  "language_info": {
   "codemirror_mode": {
    "name": "ipython",
    "version": 3
   },
   "file_extension": ".py",
   "mimetype": "text/x-python",
   "name": "python",
   "nbconvert_exporter": "python",
   "pygments_lexer": "ipython3",
   "version": "3.9.6"
  }
 },
 "nbformat": 4,
 "nbformat_minor": 5
}

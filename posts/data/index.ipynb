{
  "cells": [
    {
      "cell_type": "raw",
      "id": "08553513",
      "metadata": {},
      "source": [
        "---\n",
        "title: \"OS_Check\"\n",
        "author: \"DG Lim\"\n",
        "date: \"2023-11-23\"\n",
        "categories: [news, analysis]\n",
        "image : OpenAI_DevDay_Opening Keynote_image.png\n",
        "---"
      ]
    },
    {
      "cell_type": "markdown",
      "id": "a1523c51",
      "metadata": {},
      "source": [
        "# 파이썬 적용해보기\n",
        "데이터 load 되는지 확인"
      ]
    },
    {
      "cell_type": "code",
      "execution_count": 4,
      "id": "4474aafc",
      "metadata": {},
      "outputs": [],
      "source": [
        "import os\n",
        "import pandas as pd\n",
        "import numpy as np"
      ]
    },
    {
      "cell_type": "code",
      "execution_count": 5,
      "id": "c7803d1b",
      "metadata": {},
      "outputs": [
        {
          "name": "stdout",
          "output_type": "stream",
          "text": [
            "/Users/limdonggeon/Desktop/SNU_FINTECH/Python_Programming_Visualization/practice/data\n"
          ]
        },
        {
          "data": {
            "text/html": [
              "<div>\n",
              "<style scoped>\n",
              "    .dataframe tbody tr th:only-of-type {\n",
              "        vertical-align: middle;\n",
              "    }\n",
              "\n",
              "    .dataframe tbody tr th {\n",
              "        vertical-align: top;\n",
              "    }\n",
              "\n",
              "    .dataframe thead th {\n",
              "        text-align: right;\n",
              "    }\n",
              "</style>\n",
              "<table border=\"1\" class=\"dataframe\">\n",
              "  <thead>\n",
              "    <tr style=\"text-align: right;\">\n",
              "      <th></th>\n",
              "      <th>IATA_CODE</th>\n",
              "      <th>AIRLINE</th>\n",
              "    </tr>\n",
              "  </thead>\n",
              "  <tbody>\n",
              "    <tr>\n",
              "      <th>0</th>\n",
              "      <td>UA</td>\n",
              "      <td>United Air Lines Inc.</td>\n",
              "    </tr>\n",
              "    <tr>\n",
              "      <th>1</th>\n",
              "      <td>AA</td>\n",
              "      <td>American Airlines Inc.</td>\n",
              "    </tr>\n",
              "    <tr>\n",
              "      <th>2</th>\n",
              "      <td>US</td>\n",
              "      <td>US Airways Inc.</td>\n",
              "    </tr>\n",
              "    <tr>\n",
              "      <th>3</th>\n",
              "      <td>F9</td>\n",
              "      <td>Frontier Airlines Inc.</td>\n",
              "    </tr>\n",
              "    <tr>\n",
              "      <th>4</th>\n",
              "      <td>B6</td>\n",
              "      <td>JetBlue Airways</td>\n",
              "    </tr>\n",
              "  </tbody>\n",
              "</table>\n",
              "</div>"
            ],
            "text/plain": [
              "  IATA_CODE                 AIRLINE\n",
              "0        UA   United Air Lines Inc.\n",
              "1        AA  American Airlines Inc.\n",
              "2        US         US Airways Inc.\n",
              "3        F9  Frontier Airlines Inc.\n",
              "4        B6         JetBlue Airways"
            ]
          },
          "execution_count": 5,
          "metadata": {},
          "output_type": "execute_result"
        }
      ],
      "source": [
        "pwd = os.getcwd()\n",
        "print(pwd)\n",
        "os.chdir('/Users/limdonggeon/Desktop/SNU_FINTECH/Python_Programming_Visualization/practice/data')\n",
        "pwd2 = os.getcwd()\n",
        "data = pd.read_csv(pwd2 + '/airlines.csv')\n",
        "data.head()"
      ]
    },
    {
      "cell_type": "markdown",
      "id": "5f54ee9e",
      "metadata": {},
      "source": [
        "<br/>\n",
        "<br/>\n"
      ]
    },
    {
      "cell_type": "markdown",
      "id": "737b40cd",
      "metadata": {},
      "source": [
        "---\n",
        "# Writer : 임동건 #\n",
        "<img src=\"donggeon_image.jpeg\" width=\"200\" height=\"200\">"
      ]
    }
  ],
  "metadata": {
    "kernelspec": {
      "display_name": "Python 3 (ipykernel)",
      "language": "python",
      "name": "python3"
    },
    "language_info": {
      "codemirror_mode": {
        "name": "ipython",
        "version": 3
      },
      "file_extension": ".py",
      "mimetype": "text/x-python",
      "name": "python",
      "nbconvert_exporter": "python",
      "pygments_lexer": "ipython3",
      "version": "3.9.6"
    }
  },
  "nbformat": 4,
  "nbformat_minor": 5
}

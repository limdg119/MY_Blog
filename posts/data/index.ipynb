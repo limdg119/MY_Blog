{
  "cells": [
    {
      "cell_type": "raw",
      "metadata": {},
      "source": [
        "---\n",
        "title: \"OS_Check\"\n",
        "author: \"DG Lim\"\n",
        "date: \"2023-11-23\"\n",
        "categories: [news, analysis]\n",
        "image : OpenAI_DevDay_Opening Keynote_image.png\n",
        "---"
      ],
      "id": "08553513"
    },
    {
      "cell_type": "markdown",
      "metadata": {},
      "source": [
        "# 파이썬 적용해보기\n",
        "데이터 load 되는지 확인"
      ],
      "id": "a1523c51"
    },
    {
      "cell_type": "code",
      "metadata": {},
      "source": [
        "import os\n",
        "import pandas as pd\n",
        "import numpy as np"
      ],
      "id": "4474aafc",
      "execution_count": null,
      "outputs": []
    },
    {
      "cell_type": "code",
      "metadata": {},
      "source": [
        "pwd = os.getcwd()\n",
        "print(pwd)\n",
        "os.chdir('/Users/limdonggeon/Desktop/SNU_FINTECH/Python_Programming_Visualization/practice/data')\n",
        "pwd2 = os.getcwd()\n",
        "data = pd.read_csv(pwd2 + './airlines.csv')\n",
        "data.head()"
      ],
      "id": "c7803d1b",
      "execution_count": null,
      "outputs": []
    },
    {
      "cell_type": "markdown",
      "metadata": {},
      "source": [
        "<br/>\n",
        "<br/>\n"
      ],
      "id": "5f54ee9e"
    },
    {
      "cell_type": "markdown",
      "metadata": {},
      "source": [
        "---\n",
        "# Writer : 임동건 #\n",
        "<img src=\"donggeon_image.jpeg\" width=\"200\" height=\"200\">"
      ],
      "id": "737b40cd"
    }
  ],
  "metadata": {
    "kernelspec": {
      "name": "python3",
      "language": "python",
      "display_name": "Python 3 (ipykernel)"
    }
  },
  "nbformat": 4,
  "nbformat_minor": 5
}
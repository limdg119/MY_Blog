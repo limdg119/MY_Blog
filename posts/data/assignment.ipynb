{
  "cells": [
    {
      "cell_type": "raw",
      "metadata": {},
      "source": [
        "---\n",
        "title: Data Load and Python\n",
        "author: DG Lim\n",
        "date: '2023-11-09'\n",
        "categories:\n",
        "  - news\n",
        "  - analysis\n",
        "image: donggeon_image.jpeg\n",
        "---"
      ],
      "id": "69253b37"
    },
    {
      "cell_type": "markdown",
      "metadata": {},
      "source": [
        "데이터 로드와 파이썬 되는지 확인\n",
        "# Data Load and Python\n"
      ],
      "id": "92be22d9"
    },
    {
      "cell_type": "code",
      "metadata": {},
      "source": [
        "# 라이브러리 파일 실행\n",
        "import numpy as np\n",
        "import matplotlib.pyplot as plt\n",
        "import csv\n",
        "import os"
      ],
      "id": "5e5f600f",
      "execution_count": null,
      "outputs": []
    },
    {
      "cell_type": "code",
      "metadata": {},
      "source": [
        "path = '/Users/limdonggeon/Desktop/workspace/limdg119.github.io/posts/data'"
      ],
      "id": "9078c7d7",
      "execution_count": null,
      "outputs": []
    },
    {
      "cell_type": "markdown",
      "metadata": {},
      "source": [
        "# 1. 지하철 유무임 승차비율 데이터 분석\n"
      ],
      "id": "8ca5215c"
    },
    {
      "cell_type": "code",
      "metadata": {},
      "source": [
        "# 데이터 불러오기\n",
        "data1 = []\n",
        "with open(path+'/metro_fare.csv', 'r', encoding='cp949') as f:\n",
        "    source1 = csv.reader(f, delimiter=',')\n",
        "    #print(source)\n",
        "    header1 = next(source1)\n",
        "    for row in source1:\n",
        "        data1.append(row)\n",
        "\n",
        "# 데이터 확인\n",
        "print(header1)\n",
        "print(data1[0])\n",
        "\n",
        "# 데이터 ndarray로 만들기\n",
        "data_array1 = np.array(data1)"
      ],
      "id": "b7051bd6",
      "execution_count": null,
      "outputs": []
    },
    {
      "cell_type": "code",
      "metadata": {},
      "source": [
        "# 불러온 데이터 결측치 여부 확인\n",
        "cnt = 0\n",
        "for row in range(len(data_array1)):\n",
        "    for i in range(len(data_array1[0])):\n",
        "        if ((data_array1[row][i] == '') or (data_array1[row][i] == np.NAN)):\n",
        "            cnt = cnt + 1\n",
        "            print(cnt, '번째 결측치',row,i)\n",
        "\n",
        "if cnt == 0:\n",
        "    print('결측치가 존재하지 않습니다.')"
      ],
      "id": "ae0b7b47",
      "execution_count": null,
      "outputs": []
    },
    {
      "cell_type": "code",
      "metadata": {},
      "source": [
        "# 같은 역에대한 데이터가 존재하는지 확인\n",
        "# 이름이 같지만 호선이 다른 경우 다른 역으로 표현함 (1호선 시청역과 2호선 시청역은 다름)\n",
        "# 호선 + 역 이름으로 역 리스트 생성\n",
        "cnt = 0\n",
        "station1 = []\n",
        "for row in range(len(data_array1)):\n",
        "    station_name1 = data_array1[row][1] + ' ' + data_array1[row][3]\n",
        "    if station_name1 in station1:\n",
        "        print(station_name1 +'이 겹칩니다.')\n",
        "    station1.append(station_name1)\n",
        "if cnt == 0:\n",
        "    print('호선과 역 이름이 동시에 겹치는 역이 없습니다.')"
      ],
      "id": "c26edb96",
      "execution_count": null,
      "outputs": []
    },
    {
      "cell_type": "code",
      "metadata": {},
      "source": [
        "# ndarray형태에서 ,때문에 인원들에 대한 요소값을 int 형태로 변경 불가\n",
        "# list를 만들어 ,를 지운 후 ndarray형태로 변경\n",
        "stationary_board_list = []\n",
        "free_board_list = []\n",
        "stationary_deboard_list = []\n",
        "free_deboard_list = []\n",
        "\n",
        "for row in data1:\n",
        "    stationary_board_list.append(row[4].replace(',',''))\n",
        "    free_board_list.append(row[6].replace(',',''))\n",
        "    stationary_deboard_list.append(row[5].replace(',',''))\n",
        "    free_deboard_list.append(row[7].replace(',',''))\n",
        "\n",
        "stationary_board_array = np.array(stationary_board_list)\n",
        "free_board_array = np.array(free_board_list)\n",
        "stationary_deboard_array = np.array(stationary_deboard_list)\n",
        "free_deboard_array = np.array(free_deboard_list)\n",
        "\n",
        "# 승차인원\n",
        "# 유임승차 인원에 대한 요소값의 형태를 int로 변경\n",
        "stationary_board = stationary_board_array.astype(int)\n",
        "# 무임승차 인원에 대한 요소값의 형태를 int로 변경\n",
        "free_board = free_board_array.astype(int)\n",
        "\n",
        "# 하차인원\n",
        "# 유임하차 인원에 대한 요소값의 형태를 int로 변경\n",
        "stationary_deboard = stationary_deboard_array.astype(int)\n",
        "# 무임하차 인원에 대한 요소값의 형태를 int로 변경\n",
        "free_deboard = free_deboard_array.astype(int)"
      ],
      "id": "c3781941",
      "execution_count": null,
      "outputs": []
    },
    {
      "cell_type": "markdown",
      "metadata": {},
      "source": [
        "## 1-1. 총 승차인원(유임승차+무임승차)이 가장 많은 역과 그 역의 승차인원을 출력하고 총 하차인원(유임하차+무임하차)이 가장 많은 역과 그 역의 하차인원을 출력하세요.\n"
      ],
      "id": "43e74c52"
    },
    {
      "cell_type": "code",
      "metadata": {},
      "source": [
        "print('1-1. 총 승차인원(유임승차+무임승차)이 가장 많은 역과 그 역의 승차인원을 출력하고 총 하차인원(유임하차+무임하차)이 가장 많은 역과 그 역의 하차인원을 출력하세요.')\n",
        "# 역별 승차인원 ndarray 만들기\n",
        "total_board = stationary_board + free_board\n",
        "# 최대 승차인원 값과 인덱스 찾기\n",
        "board_max_idx = np.argmax(total_board)\n",
        "board_max_value = total_board[board_max_idx]\n",
        "print(f'최대 승차 : {station1[board_max_idx]}역 {board_max_value}명 승차')\n",
        "\n",
        "# 역별 하차인원 ndarray 만들기\n",
        "total_deboard = stationary_deboard + free_deboard\n",
        "# 최대 하차인원 값과 인덱스 찾기\n",
        "deboard_max_idx = np.argmax(total_deboard)\n",
        "deboard_max_value = total_deboard[deboard_max_idx]\n",
        "print(f'최대 하차 : {station1[deboard_max_idx]}역 {deboard_max_value}명 하차')"
      ],
      "id": "782296b3",
      "execution_count": null,
      "outputs": []
    },
    {
      "cell_type": "markdown",
      "metadata": {},
      "source": [
        "## 1-2. 유임승차자의 비율(유임승차/총 승차인원)이 가장 높은 상위 10개 역과 각각의 유임승차자 비율을 구하세요.\n"
      ],
      "id": "4d8f580f"
    },
    {
      "cell_type": "code",
      "metadata": {},
      "source": [
        "print('1-2 유임승차자의 비율(유임승차/총 승차인원)이 가장 높은 상위 10개 역과 각각의 유임승차자 비율을 구하세요.')\n",
        "# 역별 유임승차자 비율 ndarray 만들기\n",
        "stationary_rate = stationary_board/total_board\n",
        "\n",
        "# 유임승차자 비율 큰 순서로 정렬한 인덱스\n",
        "sort_index = np.argsort(stationary_rate)[ : : -1]\n",
        "\n",
        "# 상위 10개역 출력\n",
        "for i in range(10):\n",
        "    print(f'{i+1}. {station1[sort_index[i]]}역 유임승차자 비율 : {stationary_rate[sort_index[i]]}')"
      ],
      "id": "c51c41f5",
      "execution_count": null,
      "outputs": []
    },
    {
      "cell_type": "markdown",
      "metadata": {},
      "source": [
        "# 2. 지하철 시간대별 승하차 데이터 분석\n"
      ],
      "id": "0945a132"
    },
    {
      "cell_type": "code",
      "metadata": {
        "scrolled": true
      },
      "source": [
        "data2 = []\n",
        "with open('metro_time.csv', 'r', encoding='cp949') as f:\n",
        "    source2 = csv.reader(f, delimiter=',')\n",
        "    header2_1 = next(source2)\n",
        "    header2_2 = next(source2)\n",
        "    for row in source2:\n",
        "        data2.append(row)\n",
        "\n",
        "# 데이터 확인\n",
        "print(header2_1)\n",
        "print(header2_2)\n",
        "print(data2[0])\n",
        "\n",
        "# 데이터 ndarray로 만들기\n",
        "data_array2 = np.array(data2)"
      ],
      "id": "1006ca33",
      "execution_count": null,
      "outputs": []
    },
    {
      "cell_type": "code",
      "metadata": {},
      "source": [
        "# 불러온 데이터 결측치 여부 확인\n",
        "cnt = 0\n",
        "for row in range(len(data_array2)):\n",
        "    for i in range(len(data_array2[0])):\n",
        "        if ((data_array2[row][i] == '') or (data_array2[row][i] == np.NaN)):\n",
        "            cnt = cnt + 1\n",
        "            print(cnt, '번째 결측치',row,i)\n",
        "\n",
        "if cnt == 0:\n",
        "    print('결측치가 존재하지 않습니다.')"
      ],
      "id": "ddb8940c",
      "execution_count": null,
      "outputs": []
    },
    {
      "cell_type": "code",
      "metadata": {},
      "source": [
        "# 같은 역에대한 데이터가 존재하는지 확인\n",
        "# 이름이 같지만 호선이 다른 경우 다른 역으로 표현함 (1호선 시청역과 2호선 시청역은 다름)\n",
        "# 호선 + 역 이름으로 역 리스트 생성\n",
        "cnt = 0\n",
        "station2 = []\n",
        "for row in range(len(data_array2)):\n",
        "    station_name2 = data_array2[row][1] + ' ' + data_array2[row][3]\n",
        "    if station_name2 in station2:\n",
        "        print(station_name2 +'이 겹칩니다.')\n",
        "    station2.append(station_name2)\n",
        "if cnt == 0:\n",
        "    print('호선과 역 이름이 동시에 겹치는 역이 없습니다.')"
      ],
      "id": "5b5daa31",
      "execution_count": null,
      "outputs": []
    },
    {
      "cell_type": "code",
      "metadata": {},
      "source": [
        "# ndarray형태에서 ,때문에 인원들에 대한 요소값을 int 형태로 변경 불가\n",
        "# list를 만들어 ,를 지운 후 ndarray형태로 변경\n",
        "time_board_mat = []\n",
        "time_deboard_mat = []\n",
        "for i in range(24):\n",
        "    time_board_list = []\n",
        "    time_deboard_list = []\n",
        "    for row in data2:\n",
        "        time_board_list.append(row[4+2*i].replace(',',''))\n",
        "        time_deboard_list.append(row[5+2*i].replace(',',''))\n",
        "    time_board_mat.append(time_board_list)\n",
        "    time_deboard_mat.append(time_deboard_list)\n",
        "\n",
        "time_board_array = np.array(time_board_mat).astype(int)\n",
        "time_deboard_array = np.array(time_deboard_mat).astype(int)"
      ],
      "id": "6f6bb8e1",
      "execution_count": null,
      "outputs": []
    },
    {
      "cell_type": "markdown",
      "metadata": {},
      "source": [
        "## 2-1. 출근 시간대(7시~9시) 승차인원과 하차인원 각각에 대해 정렬된 barplot을 그리고, 인원이 가장 많은 역과 인원을 각각 찾으세요.\n"
      ],
      "id": "ad4778b3"
    },
    {
      "cell_type": "code",
      "metadata": {},
      "source": [
        "# 출근 시간대 승차인원\n",
        "time_board_7to9 = time_board_array[3,:] + time_board_array[4,:]\n",
        "# 출근 시간대 승차인원이 적은 순으로 인덱스와 값 정렬\n",
        "time_board_7to9_idx = np.argsort(time_board_7to9)\n",
        "time_board_7to9_value = time_board_7to9[time_board_7to9_idx]\n",
        "\n",
        "# 출근 시간대 하차인원 정렬\n",
        "time_deboard_7to9 = time_deboard_array[3,:] + time_deboard_array[4,:]\n",
        "# 출근 시간대 하차인원이 적은 순으로 인덱스와 값 정렬\n",
        "time_deboard_7to9_idx = np.argsort(time_deboard_7to9)\n",
        "time_deboard_7to9_value = time_deboard_7to9[time_deboard_7to9_idx]"
      ],
      "id": "5b1094b6",
      "execution_count": null,
      "outputs": []
    },
    {
      "cell_type": "code",
      "metadata": {},
      "source": [
        "print('2-1 출근 시간대(7시~9시) 승차인원과 하차인원 각각에 대해 정렬된 barplot을 그리고, 인원이 가장 많은 역과 인원을 각각 찾으세요.')\n",
        "print(f'출근 시간대에 승차인원이 가장 많은 역 : {station2[time_board_7to9_idx[-1]]}역 {time_board_7to9_value[-1]}명 탑승')\n",
        "x_index = np.arange(len(time_board_7to9_idx))\n",
        "fig, ax = plt.subplots(figsize=(10,7))\n",
        "plt.bar(x_index,time_board_7to9_value,color = 'blue')\n",
        "plt.title(\"Board\")\n",
        "ax.set_xlabel(\"Index of sorted stations\")\n",
        "ax.set_ylabel(\"Number of person\")\n",
        "plt.show()"
      ],
      "id": "a7c93bb5",
      "execution_count": null,
      "outputs": []
    },
    {
      "cell_type": "code",
      "metadata": {},
      "source": [
        "print(f'출근 시간대에 하차인원이 가장 많은 역 : {station2[time_deboard_7to9_idx[-1]]}역 {time_deboard_7to9_value[-1]}명 하차')\n",
        "x_index = np.arange(len(time_deboard_7to9_idx))\n",
        "fig, ax = plt.subplots(figsize=(10,7))\n",
        "plt.bar(x_index,time_deboard_7to9_value,color = 'blue')\n",
        "plt.title(\"Deboard\")\n",
        "ax.set_xlabel(\"Index of sorted stations\")\n",
        "ax.set_ylabel(\"Number of person\")\n",
        "plt.show()"
      ],
      "id": "b10598a3",
      "execution_count": null,
      "outputs": []
    },
    {
      "cell_type": "code",
      "metadata": {},
      "source": [
        "print(f'출근 시간대에 승차인원이 가장 많은 역 : {station2[time_board_7to9_idx[-1]]}역 {time_board_7to9_value[-1]}명 탑승')\n",
        "print(f'출근 시간대에 하차인원이 가장 많은 역 : {station2[time_deboard_7to9_idx[-1]]}역 {time_deboard_7to9_value[-1]}명 하차')\n",
        "x_index = np.arange(len(time_deboard_7to9_idx))\n",
        "fig = plt.figure(figsize=(15, 6))\n",
        "ax1 = fig.add_subplot(121)\n",
        "ax1.bar(x_index,time_board_7to9_value,color = 'blue')\n",
        "ax1.set_title(\"Board\")\n",
        "ax1.set_xlabel(\"Index of sorted stations\")\n",
        "ax1.set_ylabel(\"Number of person\")\n",
        "ax2 = fig.add_subplot(122)\n",
        "ax2.bar(x_index,time_deboard_7to9_value,color = 'blue')\n",
        "ax2.set_title(\"Deboard\")\n",
        "ax2.set_xlabel(\"Index of sorted stations\")\n",
        "ax2.set_ylabel(\"Number of person\")\n",
        "plt.show()"
      ],
      "id": "805d81f6",
      "execution_count": null,
      "outputs": []
    },
    {
      "cell_type": "markdown",
      "metadata": {},
      "source": [
        "## 2-2. 각 시간대별 모든 지하철역에서의 총 승차인원의 합과 총 하차인원의 합을 구하고, x축을 시간, y축을 인원으로 하는 그래프로 나타내시오.\n"
      ],
      "id": "35bde1ce"
    },
    {
      "cell_type": "code",
      "metadata": {},
      "source": [
        "#시간대 별 모든 지하철역에서의 총 승차인원의 합과 총 하차인원의 합\n",
        "sum_time_board = []\n",
        "sum_time_deboard = []\n",
        "for i in range(24):\n",
        "    sum_time_board.append(sum(time_board_array[i,:]))\n",
        "    sum_time_deboard.append(sum(time_deboard_array[i,:]))\n",
        "\n",
        "sum_time_board_array = np.array(sum_time_board)\n",
        "sum_time_deboard_array = np.array(sum_time_deboard)"
      ],
      "id": "37057bc1",
      "execution_count": null,
      "outputs": []
    },
    {
      "cell_type": "code",
      "metadata": {},
      "source": [
        "print('2-2 각 시간대별 모든 지하철역에서의 총 승차인원의 합과 총 하차인원의 합을 구하고, x축을 시간, y축을 인원으로 하는 그래프로 나타내시오.')\n",
        "t_index = [t for t in range(4,28)]\n",
        "fig, ax = plt.subplots(figsize=(10,5))\n",
        "plt.title(\"Board & Deboard\")\n",
        "ax.set_xlabel(\"Time\")\n",
        "ax.set_ylabel(\"Number of person\")\n",
        "plt.plot(t_index,sum_time_board_array, label='board', color = 'blue', linewidth= '3')\n",
        "plt.plot(t_index,sum_time_deboard_array, label='deboard', color = 'red', linewidth= '3')\n",
        "plt.legend()"
      ],
      "id": "0110497d",
      "execution_count": null,
      "outputs": []
    }
  ],
  "metadata": {
    "kernelspec": {
      "name": "python3",
      "language": "python",
      "display_name": "Python 3 (ipykernel)"
    }
  },
  "nbformat": 4,
  "nbformat_minor": 5
}
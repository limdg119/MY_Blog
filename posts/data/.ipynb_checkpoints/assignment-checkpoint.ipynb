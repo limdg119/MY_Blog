{
 "cells": [
  {
   "cell_type": "code",
   "execution_count": 1,
   "metadata": {
    "executionInfo": {
     "elapsed": 9,
     "status": "ok",
     "timestamp": 1689224343523,
     "user": {
      "displayName": "임동건",
      "userId": "08266635345439810515"
     },
     "user_tz": -540
    },
    "id": "aixWlZG8Qc2N"
   },
   "outputs": [],
   "source": [
    "# 라이브러리 파일 실행\n",
    "import os\n",
    "import numpy as np\n",
    "import matplotlib.pyplot as plt\n",
    "import csv"
   ]
  },
  {
   "cell_type": "markdown",
   "metadata": {
    "id": "2gZBPxUsRTjk"
   },
   "source": [
    "**# 1. 지하철 유무임 승차비율 데이터 분석**"
   ]
  },
  {
   "cell_type": "code",
   "execution_count": 24,
   "metadata": {
    "colab": {
     "base_uri": "https://localhost:8080/"
    },
    "executionInfo": {
     "elapsed": 8726,
     "status": "ok",
     "timestamp": 1689224343522,
     "user": {
      "displayName": "임동건",
      "userId": "08266635345439810515"
     },
     "user_tz": -540
    },
    "id": "5sOT8D_4DrR5",
    "outputId": "9295ff78-3ba4-46c3-8a3a-33b0adf25284"
   },
   "outputs": [],
   "source": [
    "path = os.getcwd()\n",
    "path = '/Users/limdonggeon/Desktop/workspace/limdg119.github.io/posts/data'\n",
    "os.chdir(path)\n",
    "#path = os.chdir('/Users/limdonggeon/Desktop/workspace/limdg119.github.io/posts/data')\n",
    "seoul_data = path + '/Metro_fare.csv'"
   ]
  },
  {
   "cell_type": "code",
   "execution_count": 25,
   "metadata": {},
   "outputs": [
    {
     "name": "stdout",
     "output_type": "stream",
     "text": [
      "/Users/limdonggeon/Desktop/workspace/limdg119.github.io/posts/data\n"
     ]
    }
   ],
   "source": [
    "print(path)"
   ]
  },
  {
   "cell_type": "code",
   "execution_count": 27,
   "metadata": {
    "colab": {
     "base_uri": "https://localhost:8080/",
     "height": 351
    },
    "executionInfo": {
     "elapsed": 701,
     "status": "error",
     "timestamp": 1689224391750,
     "user": {
      "displayName": "임동건",
      "userId": "08266635345439810515"
     },
     "user_tz": -540
    },
    "id": "iIufsRQYRSTd",
    "outputId": "909916a5-245f-41e3-ceae-fb8ecfc41855"
   },
   "outputs": [
    {
     "name": "stdout",
     "output_type": "stream",
     "text": [
      "['Jun-22', '1호선', '150', '서울역', '1,150,754', '1,123,193', '194,717', '187,155', '2022-07-03 9:48', '2,655,819']\n",
      "['Jun-22', '1호선', '151', '시청', '537,067', '543,569', '80,671', '78,279', '2022-07-03 9:48', '1,239,586']\n"
     ]
    }
   ],
   "source": [
    "# 데이터 불러오기\n",
    "seoul_apt_data = []\n",
    "with open(seoul_data, 'r', encoding='cp949') as f:\n",
    "    source1 = csv.reader(f, delimiter=',')\n",
    "    #print(source)\n",
    "    header1 = next(source1)\n",
    "    header2 = next(source1)\n",
    "    for row in source1:\n",
    "        seoul_apt_data.append(row)\n",
    "\n",
    "# 데이터 확인\n",
    "print(header2)\n",
    "print(seoul_apt_data[0])\n",
    "\n",
    "# 데이터 ndarray로 만들기\n",
    "data_array1 = np.array(seoul_apt_data)"
   ]
  },
  {
   "cell_type": "code",
   "execution_count": null,
   "metadata": {
    "colab": {
     "base_uri": "https://localhost:8080/"
    },
    "executionInfo": {
     "elapsed": 8,
     "status": "ok",
     "timestamp": 1689126776265,
     "user": {
      "displayName": "임동건",
      "userId": "08266635345439810515"
     },
     "user_tz": -540
    },
    "id": "_Fp2nqsegTVK",
    "outputId": "27cdd8e4-ec92-4e6e-e09b-ba2ccee581f0"
   },
   "outputs": [
    {
     "name": "stdout",
     "output_type": "stream",
     "text": [
      "결측치가 존재하지 않습니다.\n"
     ]
    }
   ],
   "source": [
    "# 불러온 데이터 결측치 여부 확인\n",
    "cnt = 0\n",
    "for row in range(len(data_array1)):\n",
    "    for i in range(len(data_array1[0])):\n",
    "        if ((data_array1[row][i] == '') or (data_array1[row][i] == np.NAN)):\n",
    "            cnt = cnt + 1\n",
    "            print(cnt, '번째 결측치',row,i)\n",
    "\n",
    "if cnt == 0:\n",
    "    print('결측치가 존재하지 않습니다.')"
   ]
  },
  {
   "cell_type": "code",
   "execution_count": null,
   "metadata": {
    "colab": {
     "base_uri": "https://localhost:8080/"
    },
    "executionInfo": {
     "elapsed": 6,
     "status": "ok",
     "timestamp": 1689126776266,
     "user": {
      "displayName": "임동건",
      "userId": "08266635345439810515"
     },
     "user_tz": -540
    },
    "id": "lhCXK5HneWvP",
    "outputId": "8fac39a7-bfa1-4772-bf88-98209c9abf61"
   },
   "outputs": [
    {
     "name": "stdout",
     "output_type": "stream",
     "text": [
      "호선과 역 이름이 동시에 겹치는 역이 없습니다.\n"
     ]
    }
   ],
   "source": [
    "# 같은 역에대한 데이터가 존재하는지 확인\n",
    "# 이름이 같지만 호선이 다른 경우 다른 역으로 표현함 (1호선 시청역과 2호선 시청역은 다름)\n",
    "# 호선 + 역 이름으로 역 리스트 생성\n",
    "cnt = 0\n",
    "station1 = []\n",
    "for row in range(len(data_array1)):\n",
    "    station_name1 = data_array1[row][1] + ' ' + data_array1[row][3]\n",
    "    if station_name1 in station1:\n",
    "        print(station_name1 +'이 겹칩니다.')\n",
    "    station1.append(station_name1)\n",
    "if cnt == 0:\n",
    "    print('호선과 역 이름이 동시에 겹치는 역이 없습니다.')"
   ]
  },
  {
   "cell_type": "code",
   "execution_count": null,
   "metadata": {
    "id": "mu3oaYq0g40f"
   },
   "outputs": [],
   "source": [
    "# ndarray형태에서 ,때문에 인원들에 대한 요소값을 int 형태로 변경 불가\n",
    "# list를 만들어 ,를 지운 후 ndarray형태로 변경\n",
    "stationary_board_list = []\n",
    "free_board_list = []\n",
    "stationary_deboard_list = []\n",
    "free_deboard_list = []\n",
    "\n",
    "for row in data1:\n",
    "    stationary_board_list.append(row[4].replace(',',''))\n",
    "    free_board_list.append(row[6].replace(',',''))\n",
    "    stationary_deboard_list.append(row[5].replace(',',''))\n",
    "    free_deboard_list.append(row[7].replace(',',''))\n",
    "\n",
    "stationary_board_array = np.array(stationary_board_list)\n",
    "free_board_array = np.array(free_board_list)\n",
    "stationary_deboard_array = np.array(stationary_deboard_list)\n",
    "free_deboard_array = np.array(free_deboard_list)\n",
    "\n",
    "# 승차인원\n",
    "# 유임승차 인원에 대한 요소값의 형태를 int로 변경\n",
    "stationary_board = stationary_board_array.astype(int)\n",
    "# 무임승차 인원에 대한 요소값의 형태를 int로 변경\n",
    "free_board = free_board_array.astype(int)\n",
    "\n",
    "# 하차인원\n",
    "# 유임하차 인원에 대한 요소값의 형태를 int로 변경\n",
    "stationary_deboard = stationary_deboard_array.astype(int)\n",
    "# 무임하차 인원에 대한 요소값의 형태를 int로 변경\n",
    "free_deboard = free_deboard_array.astype(int)"
   ]
  },
  {
   "cell_type": "markdown",
   "metadata": {
    "id": "iA8Nk9aVhKDq"
   },
   "source": [
    "1-1.\n",
    "총 승차인원(유임승차+무임승차)과 총 하차인원(유임하차+무임하차)이 가장 많은 역과 승차인원을 출력하세요."
   ]
  },
  {
   "cell_type": "code",
   "execution_count": null,
   "metadata": {
    "colab": {
     "base_uri": "https://localhost:8080/"
    },
    "executionInfo": {
     "elapsed": 4,
     "status": "ok",
     "timestamp": 1689126776266,
     "user": {
      "displayName": "임동건",
      "userId": "08266635345439810515"
     },
     "user_tz": -540
    },
    "id": "AIZNmaM_C1Hz",
    "outputId": "7a4e8990-ea7d-44cd-9d06-1f4dcd64a559"
   },
   "outputs": [
    {
     "name": "stdout",
     "output_type": "stream",
     "text": [
      "1-1 총 승차인원(유임승차+무임승차)과 총 하차인원(유임하차+무임하차)이 가장 많은 역과 승차인원을 출력하세요.\n",
      "최대 승차 : 2호선 강남역 2209994명 승차\n",
      "최대 하차 : 2호선 강남역 2175932명 하차\n"
     ]
    }
   ],
   "source": [
    "print('1-1 총 승차인원(유임승차+무임승차)과 총 하차인원(유임하차+무임하차)이 가장 많은 역과 승차인원을 출력하세요.')\n",
    "# 역별 승차인원 ndarray 만들기\n",
    "total_board = stationary_board + free_board\n",
    "# 최대 승차인원 값과 인덱스 찾기\n",
    "board_max_idx = np.argmax(total_board)\n",
    "board_max_value = total_board[board_max_idx]\n",
    "print(f'최대 승차 : {station1[board_max_idx]}역 {board_max_value}명 승차')\n",
    "\n",
    "# 역별 하차인원 ndarray 만들기\n",
    "total_deboard = stationary_deboard + free_deboard\n",
    "# 최대 하차인원 값과 인덱스 찾기\n",
    "deboard_max_idx = np.argmax(total_deboard)\n",
    "deboard_max_value = total_deboard[deboard_max_idx]\n",
    "print(f'최대 하차 : {station1[deboard_max_idx]}역 {deboard_max_value}명 하차')"
   ]
  },
  {
   "cell_type": "markdown",
   "metadata": {
    "id": "iiKFTPuPdIN0"
   },
   "source": [
    "1-2.\n",
    "유임승차자의 비율(유임승차/총 승차인원)이 가장 높은 상위 10개 역과 각각의 유임승차자 비율을 구하세요."
   ]
  },
  {
   "cell_type": "code",
   "execution_count": null,
   "metadata": {
    "colab": {
     "base_uri": "https://localhost:8080/"
    },
    "executionInfo": {
     "elapsed": 3,
     "status": "ok",
     "timestamp": 1689126776266,
     "user": {
      "displayName": "임동건",
      "userId": "08266635345439810515"
     },
     "user_tz": -540
    },
    "id": "aqFeOnaudH8D",
    "outputId": "d51ab0da-0ab0-4f7a-af72-036ea42e3860"
   },
   "outputs": [
    {
     "name": "stdout",
     "output_type": "stream",
     "text": [
      "1-2 유임승차자의 비율(유임승차/총 승차인원)이 가장 높은 상위 10개 역과 각각의 유임승차자 비율을 구하세요.\n",
      "1. 2호선 한양대역 유임승차자 비율 : 0.9556973033604169\n",
      "2. 공항철도 1호선 홍대입구역 유임승차자 비율 : 0.9471593106448806\n",
      "3. 2호선 홍대입구역 유임승차자 비율 : 0.94658480261284\n",
      "4. 경부선 서울역역 유임승차자 비율 : 0.9403566042189232\n",
      "5. 공항철도 1호선 마곡나루(서울식물원)역 유임승차자 비율 : 0.9400488818077928\n",
      "6. 9호선 신논현역 유임승차자 비율 : 0.9384016412930402\n",
      "7. 9호선 여의도역 유임승차자 비율 : 0.9373539462006335\n",
      "8. 6호선 한강진역 유임승차자 비율 : 0.9372195113990568\n",
      "9. 공항철도 1호선 디지털미디어시티역 유임승차자 비율 : 0.9338371458237441\n",
      "10. 공항철도 1호선 청라국제도시역 유임승차자 비율 : 0.9332706439591822\n"
     ]
    }
   ],
   "source": [
    "print('1-2 유임승차자의 비율(유임승차/총 승차인원)이 가장 높은 상위 10개 역과 각각의 유임승차자 비율을 구하세요.')\n",
    "# 역별 유임승차자 비율 ndarray 만들기\n",
    "stationary_rate = stationary_board/total_board\n",
    "\n",
    "# 유임승차자 비율 큰 순서로 정렬한 인덱스\n",
    "sort_index = np.argsort(stationary_rate)[ : : -1]\n",
    "\n",
    "# 상위 10개역 출력\n",
    "for i in range(10):\n",
    "    print(f'{i+1}. {station1[sort_index[i]]}역 유임승차자 비율 : {stationary_rate[sort_index[i]]}')\n"
   ]
  },
  {
   "cell_type": "markdown",
   "metadata": {
    "id": "i8fmnw3PhIRc"
   },
   "source": [
    "**# 2. 지하철 시간대별 승하차 데이터 분석**"
   ]
  },
  {
   "cell_type": "code",
   "execution_count": null,
   "metadata": {
    "colab": {
     "base_uri": "https://localhost:8080/"
    },
    "executionInfo": {
     "elapsed": 2210,
     "status": "ok",
     "timestamp": 1689129631889,
     "user": {
      "displayName": "임동건",
      "userId": "08266635345439810515"
     },
     "user_tz": -540
    },
    "id": "7tdOYiZeZFRs",
    "outputId": "557a6be8-b397-4488-ea49-eb3638693dd3"
   },
   "outputs": [
    {
     "name": "stdout",
     "output_type": "stream",
     "text": [
      "Drive already mounted at /content/drive; to attempt to forcibly remount, call drive.mount(\"/content/drive\", force_remount=True).\n"
     ]
    }
   ],
   "source": [
    "# 구글드라이브 마운트\n",
    "from google.colab import drive\n",
    "drive.mount('/content/drive')\n",
    "metro_time_data = '/content/drive/MyDrive/SNU_fintech/Python_Programming/assignment/Metro_time.csv'"
   ]
  },
  {
   "cell_type": "code",
   "execution_count": null,
   "metadata": {
    "colab": {
     "base_uri": "https://localhost:8080/"
    },
    "executionInfo": {
     "elapsed": 406,
     "status": "ok",
     "timestamp": 1689129633420,
     "user": {
      "displayName": "임동건",
      "userId": "08266635345439810515"
     },
     "user_tz": -540
    },
    "id": "uVviDJhqhkd5",
    "outputId": "69a706ea-5ab1-4b83-a005-8e78e7bc5698"
   },
   "outputs": [
    {
     "name": "stdout",
     "output_type": "stream",
     "text": [
      "['사용월', '호선명', '역ID', '지하철역', '04:00:00~04:59:59', '', '05:00:00~05:59:59', '', '06:00:00~06:59:59', '', '07:00:00~07:59:59', '', '08:00:00~08:59:59', '', '09:00:00~09:59:59', '', '10:00:00~10:59:59', '', '11:00:00~11:59:59', '', '12:00:00~12:59:59', '', '13:00:00~13:59:59', '', '14:00:00~14:59:59', '', '15:00:00~15:59:59', '', '16:00:00~16:59:59', '', '17:00:00~17:59:59', '', '18:00:00~18:59:59', '', '19:00:00~19:59:59', '', '20:00:00~20:59:59', '', '21:00:00~21:59:59', '', '22:00:00~22:59:59', '', '23:00:00~23:59:59', '', '00:00:00~00:59:59', '', '01:00:00~01:59:59', '', '02:00:00~02:59:59', '', '03:00:00~03:59:59', '', '작업일시']\n",
      "['', '', '', '', '승차', '하차', '승차', '하차', '승차', '하차', '승차', '하차', '승차', '하차', '승차', '하차', '승차', '하차', '승차', '하차', '승차', '하차', '승차', '하차', '승차', '하차', '승차', '하차', '승차', '하차', '승차', '하차', '승차', '하차', '승차', '하차', '승차', '하차', '승차', '하차', '승차', '하차', '승차', '하차', '승차', '하차', '승차', '하차', '승차', '하차', '승차', '하차', '']\n",
      "['2022-06', '1호선', '0150', '서울역', '646', '24', '8,433', '7,694', '12,608', '46,963', '39,233', '100,397', '65,106', '201,687', '54,833', '136,594', '54,970', '72,279', '65,919', '63,975', '73,911', '71,095', '75,158', '70,182', '62,452', '63,752', '83,128', '66,858', '94,518', '68,962', '144,662', '80,449', '194,098', '85,268', '97,875', '56,132', '69,808', '39,704', '76,345', '35,471', '51,224', '26,045', '20,385', '15,480', '158', '1,332', '1', '4', '0', '1', '0', '0', '2022-07-03 09:48:05']\n"
     ]
    }
   ],
   "source": [
    "data2 = []\n",
    "with open(metro_time_data, 'r', encoding='cp949') as f:\n",
    "    source2 = csv.reader(f, delimiter=',')\n",
    "    header2_1 = next(source2)\n",
    "    header2_2 = next(source2)\n",
    "    for row in source2:\n",
    "        data2.append(row)\n",
    "\n",
    "# 데이터 확인\n",
    "print(header2_1)\n",
    "print(header2_2)\n",
    "print(data2[0])\n",
    "\n",
    "# 데이터 ndarray로 만들기\n",
    "data_array2 = np.array(data2)"
   ]
  },
  {
   "cell_type": "code",
   "execution_count": null,
   "metadata": {
    "colab": {
     "base_uri": "https://localhost:8080/"
    },
    "executionInfo": {
     "elapsed": 404,
     "status": "ok",
     "timestamp": 1689129634091,
     "user": {
      "displayName": "임동건",
      "userId": "08266635345439810515"
     },
     "user_tz": -540
    },
    "id": "yNozLgRdht5B",
    "outputId": "36def247-c191-45cc-b577-eae3d5fbb3f4"
   },
   "outputs": [
    {
     "name": "stdout",
     "output_type": "stream",
     "text": [
      "결측치가 존재하지 않습니다.\n"
     ]
    }
   ],
   "source": [
    "# 불러온 데이터 결측치 여부 확인\n",
    "cnt = 0\n",
    "for row in range(len(data_array2)):\n",
    "  for i in range(len(data_array2[0])):\n",
    "    if ((data_array2[row][i] == '') or (data_array2[row][i] == np.NaN)):\n",
    "      cnt = cnt + 1\n",
    "      print(cnt, '번째 결측치',row,i)\n",
    "\n",
    "if cnt == 0:\n",
    "  print('결측치가 존재하지 않습니다.')"
   ]
  },
  {
   "cell_type": "code",
   "execution_count": null,
   "metadata": {
    "colab": {
     "base_uri": "https://localhost:8080/"
    },
    "executionInfo": {
     "elapsed": 1,
     "status": "ok",
     "timestamp": 1689129634397,
     "user": {
      "displayName": "임동건",
      "userId": "08266635345439810515"
     },
     "user_tz": -540
    },
    "id": "KNXfGFRjij8Z",
    "outputId": "f2c20a15-d185-424e-83a9-d97075b74850"
   },
   "outputs": [
    {
     "name": "stdout",
     "output_type": "stream",
     "text": [
      "호선과 역 이름이 동시에 겹치는 역이 없습니다.\n"
     ]
    }
   ],
   "source": [
    "# 같은 역에대한 데이터가 존재하는지 확인\n",
    "# 이름이 같지만 호선이 다른 경우 다른 역으로 표현함 (1호선 시청역과 2호선 시청역은 다름)\n",
    "# 호선 + 역 이름으로 역 리스트 생성\n",
    "cnt = 0\n",
    "station2 = []\n",
    "for row in range(len(data_array2)):\n",
    "  station_name2 = data_array2[row][1] + ' ' + data_array2[row][3]\n",
    "  if station_name2 in station2:\n",
    "    print(station_name2 +'이 겹칩니다.')\n",
    "  station2.append(station_name2)\n",
    "if cnt == 0:\n",
    "  print('호선과 역 이름이 동시에 겹치는 역이 없습니다.')"
   ]
  },
  {
   "cell_type": "code",
   "execution_count": null,
   "metadata": {
    "id": "Di3gAoTxinTP"
   },
   "outputs": [],
   "source": [
    "# ndarray형태에서 ,때문에 인원들에 대한 요소값을 int 형태로 변경 불가\n",
    "# list를 만들어 ,를 지운 후 ndarray형태로 변경\n",
    "time_board_mat = []\n",
    "time_deboard_mat = []\n",
    "for i in range(24):\n",
    "  time_board_list = []\n",
    "  time_deboard_list = []\n",
    "  for row in data2:\n",
    "    time_board_list.append(row[4+2*i].replace(',',''))\n",
    "    time_deboard_list.append(row[5+2*i].replace(',',''))\n",
    "  time_board_mat.append(time_board_list)\n",
    "  time_deboard_mat.append(time_deboard_list)\n",
    "\n",
    "time_board_array = np.array(time_board_mat).astype(int)\n",
    "time_deboard_array = np.array(time_deboard_mat).astype(int)"
   ]
  },
  {
   "cell_type": "markdown",
   "metadata": {
    "id": "VPGnERCrpLpG"
   },
   "source": [
    "2-1\n",
    "출근 시간대(7시~9시) 승차인원과 하차인원 각각에 대해 정렬된 barplot을 그리고, 인원이 가장 많은 역과 인원을 각각 찾으세요."
   ]
  },
  {
   "cell_type": "code",
   "execution_count": null,
   "metadata": {
    "id": "R30_pqbHpDgP"
   },
   "outputs": [],
   "source": [
    "# 출근 시간대 승차인원\n",
    "time_board_7to9 = time_board_array[3,:] + time_board_array[4,:]\n",
    "# 출근 시간대 승차인원이 적은 순으로 인덱스와 값 정렬\n",
    "time_board_7to9_idx = np.argsort(time_board_7to9)\n",
    "time_board_7to9_value = time_board_7to9[time_board_7to9_idx]\n",
    "\n",
    "# 출근 시간대 하차인원 정렬\n",
    "time_deboard_7to9 = time_deboard_array[3,:] + time_deboard_array[4,:]\n",
    "# 출근 시간대 하차인원이 적은 순으로 인덱스와 값 정렬\n",
    "time_deboard_7to9_idx = np.argsort(time_deboard_7to9)\n",
    "time_deboard_7to9_value = time_deboard_7to9[time_deboard_7to9_idx]"
   ]
  },
  {
   "cell_type": "code",
   "execution_count": null,
   "metadata": {
    "colab": {
     "base_uri": "https://localhost:8080/",
     "height": 669
    },
    "executionInfo": {
     "elapsed": 1599,
     "status": "ok",
     "timestamp": 1689129640519,
     "user": {
      "displayName": "임동건",
      "userId": "08266635345439810515"
     },
     "user_tz": -540
    },
    "id": "eqBqwAKttPjL",
    "outputId": "a147c75c-b40e-4aec-c182-44717acdb2dc"
   },
   "outputs": [
    {
     "name": "stdout",
     "output_type": "stream",
     "text": [
      "2-1 출근 시간대(7시~9시) 승차인원과 하차인원 각각에 대해 정렬된 barplot을 그리고, 인원이 가장 많은 역과 인원을 각각 찾으세요.\n",
      "출근 시간대에 승차인원이 가장 많은 역 : 2호선 신림역 469127명 탑승\n"
     ]
    },
    {
     "data": {
      "image/png": "[encoded data removed]",
      "text/plain": [
       "<Figure size 1000x700 with 1 Axes>"
      ]
     },
     "metadata": {},
     "output_type": "display_data"
    }
   ],
   "source": [
    "print('2-1 출근 시간대(7시~9시) 승차인원과 하차인원 각각에 대해 정렬된 barplot을 그리고, 인원이 가장 많은 역과 인원을 각각 찾으세요.')\n",
    "print(f'출근 시간대에 승차인원이 가장 많은 역 : {station2[time_board_7to9_idx[-1]]}역 {time_board_7to9_value[-1]}명 탑승')\n",
    "x_index = np.arange(len(time_board_7to9_idx))\n",
    "#plt.figure(figsize=(10,7))\n",
    "fig, ax = plt.subplots(figsize=(10,7))\n",
    "plt.bar(x_index,time_board_7to9_value,color = 'blue')\n",
    "plt.title(\"Board\")\n",
    "ax.set_xlabel(\"Index of sorted stations\")\n",
    "ax.set_ylabel(\"Number of person\")\n",
    "plt.show()"
   ]
  },
  {
   "cell_type": "code",
   "execution_count": null,
   "metadata": {
    "colab": {
     "base_uri": "https://localhost:8080/",
     "height": 631
    },
    "executionInfo": {
     "elapsed": 1342,
     "status": "ok",
     "timestamp": 1689129645106,
     "user": {
      "displayName": "임동건",
      "userId": "08266635345439810515"
     },
     "user_tz": -540
    },
    "id": "ssGIp5GPuTpm",
    "outputId": "7566addd-13a8-4bb2-b8a8-288dcbc89167"
   },
   "outputs": [
    {
     "name": "stdout",
     "output_type": "stream",
     "text": [
      "출근 시간대에 하차인원이 가장 많은 역 : 7호선 가산디지털단지역 486420명 하차\n"
     ]
    },
    {
     "data": {
      "image/png": "[encoded data removed]",
      "text/plain": [
       "<Figure size 1000x700 with 1 Axes>"
      ]
     },
     "metadata": {},
     "output_type": "display_data"
    }
   ],
   "source": [
    "print(f'출근 시간대에 하차인원이 가장 많은 역 : {station2[time_deboard_7to9_idx[-1]]}역 {time_deboard_7to9_value[-1]}명 하차')\n",
    "x_index = np.arange(len(time_deboard_7to9_idx))\n",
    "fig, ax = plt.subplots(figsize=(10,7))\n",
    "plt.bar(x_index,time_deboard_7to9_value,color = 'blue')\n",
    "plt.title(\"Deboard\")\n",
    "ax.set_xlabel(\"Index of sorted stations\")\n",
    "ax.set_ylabel(\"Number of person\")\n",
    "plt.show()"
   ]
  },
  {
   "cell_type": "code",
   "execution_count": null,
   "metadata": {
    "colab": {
     "base_uri": "https://localhost:8080/",
     "height": 416
    },
    "executionInfo": {
     "elapsed": 3370,
     "status": "ok",
     "timestamp": 1689129649692,
     "user": {
      "displayName": "임동건",
      "userId": "08266635345439810515"
     },
     "user_tz": -540
    },
    "id": "4SOSC028-9-x",
    "outputId": "13fb7bc3-722c-4b58-e6bd-2e984d32f368"
   },
   "outputs": [
    {
     "name": "stdout",
     "output_type": "stream",
     "text": [
      "출근 시간대에 승차인원이 가장 많은 역 : 2호선 신림역 469127명 탑승\n",
      "출근 시간대에 하차인원이 가장 많은 역 : 7호선 가산디지털단지역 486420명 하차\n"
     ]
    },
    {
     "data": {
      "image/png": "[encoded data removed]",
      "text/plain": [
       "<Figure size 1500x600 with 2 Axes>"
      ]
     },
     "metadata": {},
     "output_type": "display_data"
    }
   ],
   "source": [
    "print(f'출근 시간대에 승차인원이 가장 많은 역 : {station2[time_board_7to9_idx[-1]]}역 {time_board_7to9_value[-1]}명 탑승')\n",
    "print(f'출근 시간대에 하차인원이 가장 많은 역 : {station2[time_deboard_7to9_idx[-1]]}역 {time_deboard_7to9_value[-1]}명 하차')\n",
    "x_index = np.arange(len(time_deboard_7to9_idx))\n",
    "fig = plt.figure(figsize=(15, 6))\n",
    "ax1 = fig.add_subplot(121)\n",
    "ax1.bar(x_index,time_board_7to9_value,color = 'blue')\n",
    "ax1.set_title(\"Board\")\n",
    "ax1.set_xlabel(\"Index of sorted stations\")\n",
    "ax1.set_ylabel(\"Number of person\")\n",
    "ax2 = fig.add_subplot(122)\n",
    "ax2.bar(x_index,time_deboard_7to9_value,color = 'blue')\n",
    "ax2.set_title(\"Deboard\")\n",
    "ax2.set_xlabel(\"Index of sorted stations\")\n",
    "ax2.set_ylabel(\"Number of person\")\n",
    "plt.show()"
   ]
  },
  {
   "cell_type": "markdown",
   "metadata": {
    "id": "QIg6nGUkzNrF"
   },
   "source": [
    "2-2\n",
    "각 시간대별 모든 지하철역에서의 총 승차인원의 합과 총 하차인원의 합을 구하고, x축을 시간, y축을 인원으로 하는 그래프로 나타내시오."
   ]
  },
  {
   "cell_type": "code",
   "execution_count": null,
   "metadata": {
    "id": "LwH_OhuIzmDG"
   },
   "outputs": [],
   "source": [
    "#시간대 별 모든 지하철역에서의 총 승차인원의 합과 총 하차인원의 합\n",
    "sum_time_board = []\n",
    "sum_time_deboard = []\n",
    "for i in range(24):\n",
    "  sum_time_board.append(sum(time_board_array[i,:]))\n",
    "  sum_time_deboard.append(sum(time_deboard_array[i,:]))\n",
    "\n",
    "sum_time_board_array = np.array(sum_time_board)\n",
    "sum_time_deboard_array = np.array(sum_time_deboard)"
   ]
  },
  {
   "cell_type": "code",
   "execution_count": null,
   "metadata": {
    "colab": {
     "base_uri": "https://localhost:8080/",
     "height": 524
    },
    "executionInfo": {
     "elapsed": 971,
     "status": "ok",
     "timestamp": 1689104719937,
     "user": {
      "displayName": "임동건",
      "userId": "08266635345439810515"
     },
     "user_tz": -540
    },
    "id": "vXlQF4W0xz3r",
    "outputId": "b0eeb6f3-8acf-4903-ddba-8c37ba9c367a"
   },
   "outputs": [
    {
     "name": "stdout",
     "output_type": "stream",
     "text": [
      "2-2 각 시간대별 모든 지하철역에서의 총 승차인원의 합과 총 하차인원의 합을 구하고, x축을 시간, y축을 인원으로 하는 그래프로 나타내시오.\n"
     ]
    },
    {
     "data": {
      "text/plain": [
       "<matplotlib.legend.Legend at 0x7fdf5fb27040>"
      ]
     },
     "execution_count": 19,
     "metadata": {},
     "output_type": "execute_result"
    },
    {
     "data": {
      "image/png": "[encoded data removed]",
      "text/plain": [
       "<Figure size 1000x500 with 1 Axes>"
      ]
     },
     "metadata": {},
     "output_type": "display_data"
    }
   ],
   "source": [
    "print('2-2 각 시간대별 모든 지하철역에서의 총 승차인원의 합과 총 하차인원의 합을 구하고, x축을 시간, y축을 인원으로 하는 그래프로 나타내시오.')\n",
    "t_index = [t for t in range(4,28)]\n",
    "fig, ax = plt.subplots(figsize=(10,5))\n",
    "plt.title(\"Board & Deboard\")\n",
    "ax.set_xlabel(\"Time\")\n",
    "ax.set_ylabel(\"Number of person\")\n",
    "plt.plot(t_index,sum_time_board_array, label='board', color = 'blue', linewidth= '3')\n",
    "plt.plot(t_index,sum_time_deboard_array, label='deboard', color = 'red', linewidth= '3')\n",
    "plt.legend()"
   ]
  },
  {
   "cell_type": "code",
   "execution_count": null,
   "metadata": {
    "id": "0Vf_In_P2Acf"
   },
   "outputs": [],
   "source": []
  }
 ],
 "metadata": {
  "colab": {
   "authorship_tag": "ABX9TyNEsqoPayKToeaV3m0Lv0NU",
   "mount_file_id": "1GkRRSWWSfDuv4UzjXJ98ZlHw9UqjRKk7",
   "provenance": []
  },
  "kernelspec": {
   "display_name": "Python 3 (ipykernel)",
   "language": "python",
   "name": "python3"
  },
  "language_info": {
   "codemirror_mode": {
    "name": "ipython",
    "version": 3
   },
   "file_extension": ".py",
   "mimetype": "text/x-python",
   "name": "python",
   "nbconvert_exporter": "python",
   "pygments_lexer": "ipython3",
   "version": "3.10.9"
  }
 },
 "nbformat": 4,
 "nbformat_minor": 1
}

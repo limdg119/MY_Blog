{
  "cells": [
    {
      "cell_type": "raw",
      "metadata": {},
      "source": [
        "---\n",
        "title: Base Table을 활용한 EDA\n",
        "author: DG Lim\n",
        "date: '2023-11-28'\n",
        "categories:\n",
        "  - news\n",
        "  - analysis\n",
        "---"
      ],
      "id": "fd9f887d"
    },
    {
      "cell_type": "markdown",
      "metadata": {},
      "source": [
        "BaseTable_2.csv를 활용한 EDA\n",
        "\n",
        "## 0. 라이브러리 설치 및 데이터 불러오기\n"
      ],
      "id": "92a185aa"
    },
    {
      "cell_type": "code",
      "metadata": {},
      "source": [
        "# 필요 라이브러리 설치\n",
        "import pandas as pd\n",
        "import numpy as np\n",
        "import seaborn as sns\n",
        "import matplotlib.pyplot as plt\n",
        "import matplotlib.font_manager as fm\n",
        "from matplotlib import rc\n",
        "%matplotlib inline\n",
        "\n",
        "rc('font', family='AppleGothic')\n",
        "plt.rcParams['axes.unicode_minus'] = False"
      ],
      "id": "85c7612b",
      "execution_count": null,
      "outputs": []
    },
    {
      "cell_type": "code",
      "metadata": {},
      "source": [
        "# 데이터 load\n",
        "data = pd.read_csv('/Users/limdonggeon/Desktop/KPMG/Work/Law/data/BaseTable_2.csv')"
      ],
      "id": "40d74521",
      "execution_count": null,
      "outputs": []
    },
    {
      "cell_type": "code",
      "metadata": {},
      "source": [
        "data.info()"
      ],
      "id": "b921f011",
      "execution_count": null,
      "outputs": []
    },
    {
      "cell_type": "markdown",
      "metadata": {},
      "source": [
        "# 그래프 그리기\n",
        "\n",
        "## 1) 사무판단 개수 파악\n",
        "\n",
        "- 사무판단 종류: 3개\n",
        "    - 사무판단이 0인 경우 : 801598개\n",
        "    - 사무판단이 1인 경우 : 60023개\n",
        "    - 사무판단이 2인 경우 : 3개\n",
        "\n",
        "- 사무판단이 2인 경우 빼고 0과 1인 경우만 비교하기\n"
      ],
      "id": "6491025b"
    },
    {
      "cell_type": "code",
      "metadata": {},
      "source": [
        "def judgment_graph(df):\n",
        "    # 전체 갯수\n",
        "    N = len(df)\n",
        "    \n",
        "    # 0의 비율, 1의 비율 계산하기\n",
        "    ratio_0 = (len(df[df['사무판단'] == 0]))/N *100\n",
        "    print(f\" 0의 비율 : {ratio_0}\")\n",
        "    ratio_1 = (len(df[df['사무판단'] == 1]))/N *100\n",
        "    print(f\" 1의 비율 : {ratio_1}\")\n",
        "    \n",
        "    # pie chart 생성\n",
        "    ratio = [ratio_0, ratio_1]\n",
        "    labels = [0,1]\n",
        "    explode = [0, 0.10]\n",
        "    colors = sns.color_palette('pastel')[3:5]\n",
        "    plt.pie(ratio, colors = colors, autopct='%.0f%%', startangle= 120, explode=explode)\n",
        "    plt.legend(['사무가 아니다', '사무이다'], bbox_to_anchor=(1.3, 1))\n",
        "    plt.title('\\n\\n 사무판단 비율 \\n')\n",
        "    plt.show()"
      ],
      "id": "0e6a9c91",
      "execution_count": null,
      "outputs": []
    },
    {
      "cell_type": "code",
      "metadata": {},
      "source": [
        "judgment_graph(data)"
      ],
      "id": "64455749",
      "execution_count": null,
      "outputs": []
    },
    {
      "cell_type": "markdown",
      "metadata": {},
      "source": [
        "##\n",
        "\n",
        "## 2) 소관부처명에 따른 사무판단\n",
        "\n",
        "- 소관부처명의 종류 : 122개\n",
        "- 사무가 가장 많은 5개 소관부처명 파악\n",
        "- 사무 비율이 가장 큰 5개 소관부처명 파악\n",
        "\n",
        "### 사무가 가장 많은 소관부처명 파악\n"
      ],
      "id": "a7b7a4f6"
    },
    {
      "cell_type": "code",
      "metadata": {},
      "source": [
        "def num_department_judgment_graph(df):\n",
        "    # 각 소관부처명 별 사무판단 갯수 파악\n",
        "    department_judgment = []\n",
        "    for ii in df['소관부처명'].unique():\n",
        "        department_count_0 = len(df.loc[(df['소관부처명']==ii) & (df['사무판단']==0)])\n",
        "        department_count_1 = len(df.loc[(df['소관부처명']==ii) & (df['사무판단']==1)])\n",
        "        # [1인 갯수, 0인 갯수, 1인 비율, 소관부처명]\n",
        "        department_judgment.append([department_count_1, department_count_0, department_count_1/(department_count_0+department_count_1), ii])\n",
        "    \n",
        "    # 사무가 가장 많은 소관부처명 파악\n",
        "    department_judgment.sort(key=lambda x:x[0], reverse = True)\n",
        "    \n",
        "    num_department_judgment = []\n",
        "    num_department = []\n",
        "    for i in range(len(department_judgment)):\n",
        "        num_department_judgment.append(department_judgment[i][0])\n",
        "        num_department.append(department_judgment[i][3])\n",
        "        \n",
        "    # 사무가 많은 소관부처명 순서대로 막대 그래프\n",
        "    fig, ax = plt.subplots(figsize=(7.5, 4.5))\n",
        "    colors = sns.color_palette('pastel')[4]\n",
        "    plt.bar(range(len(num_department_judgment)), num_department_judgment, color=colors)\n",
        "    plt.title('\\n\\n\\n 소관부처별 사무판단 개수 파악\\n')\n",
        "    plt.ylabel('개수')\n",
        "    plt.xlim([-1,len(num_department_judgment)])\n",
        "    plt.xticks([])\n",
        "    plt.ylim([0,6000]);\n",
        "    plt.yticks(np.arange(0, 6000, step=1000));\n",
        "    \n",
        "    # 사무가 가장 많은 소관부처명 5개 순서대로 막대 그래프\n",
        "    fig, ax = plt.subplots(figsize=(7.5, 4.5))\n",
        "    colors = sns.color_palette('pastel')[4]\n",
        "    bar = plt.bar(range(5), num_department_judgment[:5], color=colors)\n",
        "    plt.title('\\n\\n\\n 소관부처별 사무판단 Top5 개수 파악\\n')\n",
        "    plt.ylabel('개수')\n",
        "    plt.xlim([-0.5,4.5])\n",
        "    plt.xticks(np.arange(0, 5, 1), labels = [num_department[0],num_department[1],num_department[2],num_department[3],num_department[4]])\n",
        "    plt.ylim([0,6000]);\n",
        "    plt.yticks(np.arange(0, 6000, step=1000));\n",
        "    for rect in bar:\n",
        "        height = rect.get_height()\n",
        "        plt.text(rect.get_x() + rect.get_width()/2.0, height, '%d' % height, ha='center', va='bottom', size = 10)"
      ],
      "id": "4157e591",
      "execution_count": null,
      "outputs": []
    },
    {
      "cell_type": "code",
      "metadata": {},
      "source": [
        "num_department_judgment_graph(data)"
      ],
      "id": "6fac818b",
      "execution_count": null,
      "outputs": []
    },
    {
      "cell_type": "markdown",
      "metadata": {},
      "source": [
        "##\n",
        "\n",
        "### 사무비율이 가장 큰 소관부처명 파악\n"
      ],
      "id": "9c579267"
    },
    {
      "cell_type": "code",
      "metadata": {},
      "source": [
        "def ratio_department_judgment_graph(df):\n",
        "    # 각 소관부처명 별 사무판단 갯수 파악\n",
        "    department_judgment = []\n",
        "    for ii in df['소관부처명'].unique():\n",
        "        department_count_0 = len(df.loc[(df['소관부처명']==ii) & (df['사무판단']==0)])\n",
        "        department_count_1 = len(df.loc[(df['소관부처명']==ii) & (df['사무판단']==1)])\n",
        "        # [1인 갯수, 0인 갯수, 1인 비율, 소관부처명]\n",
        "        department_judgment.append([department_count_1, department_count_0, department_count_1/(department_count_0+department_count_1), ii])\n",
        "    \n",
        "    # 사무비율이 가장 큰 소관부처명 파악\n",
        "    department_judgment.sort(key=lambda x:x[2], reverse = True)\n",
        "    \n",
        "    ratio_department_judgment = []\n",
        "    ratio_department = []\n",
        "    for i in range(len(department_judgment)):\n",
        "        ratio_department_judgment.append(department_judgment[i][2])\n",
        "        ratio_department.append(department_judgment[i][3])\n",
        "        \n",
        "    # 사무가 많은 소관부처명 순서대로 막대 그래프\n",
        "    fig, ax = plt.subplots(figsize=(7.5, 4.5))\n",
        "    colors = sns.color_palette('pastel')[4]\n",
        "    plt.bar(range(len(ratio_department_judgment)), ratio_department_judgment, color=colors)\n",
        "    plt.title('\\n\\n\\n 소관부처별 사무판단 비율 파악\\n')\n",
        "    plt.ylabel('비율')\n",
        "    plt.xlim([-1,len(ratio_department_judgment)])\n",
        "    plt.xticks([])\n",
        "    plt.ylim([0,0.4]);\n",
        "    plt.yticks(np.arange(0, 0.5, step=0.1));\n",
        "    \n",
        "    # 사무가 가장 많은 소관부처명 5개 순서대로 막대 그래프\n",
        "    fig, ax = plt.subplots(figsize=(7.5, 4.5))\n",
        "    colors = sns.color_palette('pastel')[4]\n",
        "    bar = plt.bar(range(5), ratio_department_judgment[:5], color=colors)\n",
        "    plt.title('\\n\\n\\n 소관부처별 사무판단 Top5 비율 파악\\n')\n",
        "    plt.ylabel('비율')\n",
        "    plt.xlim([-0.5,4.5])\n",
        "    plt.xticks(np.arange(0, 5, 1), labels = [ratio_department[0].replace(',','\\n'),ratio_department[1].replace(',','\\n'),ratio_department[2].replace(',','\\n'),ratio_department[3].replace(',','\\n'),ratio_department[4].replace(',','\\n')])\n",
        "    plt.ylim([0,0.4]);\n",
        "    plt.yticks(np.arange(0, 0.5, step=0.1));\n",
        "    for rect in bar:\n",
        "        height = rect.get_height()\n",
        "        plt.text(rect.get_x() + rect.get_width()/2.0, height, '%.3f' % height, ha='center', va='bottom', size = 10)"
      ],
      "id": "74124ef5",
      "execution_count": null,
      "outputs": []
    },
    {
      "cell_type": "code",
      "metadata": {},
      "source": [
        "ratio_department_judgment_graph(data)"
      ],
      "id": "05f1b25a",
      "execution_count": null,
      "outputs": []
    },
    {
      "cell_type": "markdown",
      "metadata": {},
      "source": [
        "##\n",
        "\n",
        "## 3) 법령명에 따른 사무판단\n",
        "\n",
        "- 법령명의 종류 : 4324개\n",
        "- 사무가 가장 많은 5개 법령명 파악\n",
        "- 사무 비율이 가장 큰 5개 법령명 파악\n",
        "\n",
        "### 사무가 가장 많은 법령명 파악\n"
      ],
      "id": "65d3a3d8"
    },
    {
      "cell_type": "code",
      "metadata": {},
      "source": [
        "def num_lawname_judgment_graph(df):\n",
        "    # 각 법령명 별 사무판단 갯수 파악\n",
        "    lawname_judgment = []\n",
        "    for ii in df['법령명'].unique():\n",
        "        lawname_count_0 = len(df.loc[(df['법령명']==ii) & (df['사무판단']==0)])\n",
        "        lawname_count_1 = len(df.loc[(df['법령명']==ii) & (df['사무판단']==1)])\n",
        "        # [1인 갯수, 0인 갯수, 1인 비율, 법령명]\n",
        "        lawname_judgment.append([lawname_count_1, lawname_count_0, lawname_count_1/(lawname_count_0+lawname_count_1), ii])\n",
        "    \n",
        "    # 사무가 가장 많은 법령명 파악\n",
        "    lawname_judgment.sort(key=lambda x:x[0], reverse = True)\n",
        "    \n",
        "    num_lawname_judgment = []\n",
        "    num_lawname = []\n",
        "    for i in range(len(lawname_judgment)):\n",
        "        num_lawname_judgment.append(lawname_judgment[i][0])\n",
        "        num_lawname.append(lawname_judgment[i][3])\n",
        "        \n",
        "    # 사무가 많은 법령명 순서대로 막대 그래프\n",
        "    fig, ax = plt.subplots(figsize=(7.5, 4.5))\n",
        "    colors = sns.color_palette('pastel')[4]\n",
        "    plt.bar(range(len(num_lawname_judgment)), num_lawname_judgment, color=colors)\n",
        "    plt.title('\\n\\n\\n 법령명별 사무판단 개수 파악\\n')\n",
        "    plt.ylabel('개수')\n",
        "    plt.xlim([-1,len(num_lawname_judgment)])\n",
        "    plt.xticks([])\n",
        "    plt.ylim([0,400]);\n",
        "    plt.yticks(np.arange(0, 400, step=100));\n",
        "    \n",
        "    # 사무가 가장 많은 법령명 5개 순서대로 막대 그래프\n",
        "    fig, ax = plt.subplots(figsize=(7.5, 4.5))\n",
        "    colors = sns.color_palette('pastel')[4]\n",
        "    bar = plt.bar(range(5), num_lawname_judgment[:5], color=colors)\n",
        "    plt.title('\\n\\n\\n 법령명별 사무판단 Top5 개수 파악\\n')\n",
        "    plt.ylabel('개수')\n",
        "    plt.xlim([-0.5,4.5])\n",
        "    plt.xticks(np.arange(0, 5, 1), labels = ['\\n'+num_lawname[0],num_lawname[1],'\\n\\n'+num_lawname[2],num_lawname[3],'\\n'+num_lawname[4]])\n",
        "    plt.ylim([0,400]);\n",
        "    plt.yticks(np.arange(0, 400, step=100));\n",
        "    for rect in bar:\n",
        "        height = rect.get_height()\n",
        "        plt.text(rect.get_x() + rect.get_width()/2.0, height, '%d' % height, ha='center', va='bottom', size = 10)"
      ],
      "id": "46552f6d",
      "execution_count": null,
      "outputs": []
    },
    {
      "cell_type": "code",
      "metadata": {},
      "source": [
        "num_lawname_judgment_graph(data)"
      ],
      "id": "717beb6a",
      "execution_count": null,
      "outputs": []
    },
    {
      "cell_type": "markdown",
      "metadata": {},
      "source": [
        "##\n",
        "\n",
        "### 사무비율이 가장 큰 법령명 파악\n"
      ],
      "id": "263f98a9"
    },
    {
      "cell_type": "code",
      "metadata": {},
      "source": [
        "def ratio_lawname_judgment_graph(df):\n",
        "    # 각 법령명 별 사무판단 갯수 파악\n",
        "    lawname_judgment = []\n",
        "    for ii in df['법령명'].unique():\n",
        "        lawname_count_0 = len(df.loc[(df['법령명']==ii) & (df['사무판단']==0)])\n",
        "        lawname_count_1 = len(df.loc[(df['법령명']==ii) & (df['사무판단']==1)])\n",
        "        # [1인 갯수, 0인 갯수, 1인 비율, 법령명]\n",
        "        lawname_judgment.append([lawname_count_1, lawname_count_0, lawname_count_1/(lawname_count_0+lawname_count_1), ii])\n",
        "    \n",
        "    # 사무가 가장 많은 법령명 파악\n",
        "    lawname_judgment.sort(key=lambda x:x[2], reverse = True)\n",
        "    \n",
        "    ratio_lawname_judgment = []\n",
        "    ratio_lawname = []\n",
        "    for i in range(len(lawname_judgment)):\n",
        "        ratio_lawname_judgment.append(lawname_judgment[i][2])\n",
        "        ratio_lawname.append(lawname_judgment[i][3])\n",
        "\n",
        "    # 사무가 많은 법령명 순서대로 막대 그래프\n",
        "    fig, ax = plt.subplots(figsize=(7.5, 4.5))\n",
        "    colors = sns.color_palette('pastel')[4]\n",
        "    plt.bar(range(len(ratio_lawname_judgment)), ratio_lawname_judgment, color=colors)\n",
        "    plt.title('\\n\\n\\n 법령명별 사무판단 비율 파악\\n')\n",
        "    plt.ylabel('비율')\n",
        "    plt.xlim([-1,len(ratio_lawname_judgment)])\n",
        "    plt.xticks([])\n",
        "    plt.ylim([0,1.2]);\n",
        "    plt.yticks(np.arange(0, 1.2, step=0.2));\n",
        "    \n",
        "    # 사무가 가장 많은 법령명 5개 순서대로 막대 그래프\n",
        "    fig, ax = plt.subplots(figsize=(7.5, 4.5))\n",
        "    colors = sns.color_palette('pastel')[4]\n",
        "    bar = plt.bar(range(5), ratio_lawname_judgment[:5], color=colors)\n",
        "    plt.title('\\n\\n\\n 법령명별 사무판단 Top5 비율 파악\\n')\n",
        "    plt.ylabel('비율')\n",
        "    plt.xlim([-0.5,4.5])\n",
        "    plt.xticks(np.arange(0, 5, 1), labels = [ratio_lawname[0],'\\n'+ratio_lawname[1],'\\n\\n'+ratio_lawname[2],ratio_lawname[3],'\\n'+ratio_lawname[4]])\n",
        "    plt.ylim([0,1.2]);\n",
        "    plt.yticks(np.arange(0, 1.2, step=0.2));\n",
        "    for rect in bar:\n",
        "        height = rect.get_height()\n",
        "        plt.text(rect.get_x() + rect.get_width()/2.0, height, '%.3f' % height, ha='center', va='bottom', size = 10)"
      ],
      "id": "2fe6b5fb",
      "execution_count": null,
      "outputs": []
    },
    {
      "cell_type": "code",
      "metadata": {},
      "source": [
        "ratio_lawname_judgment_graph(data)"
      ],
      "id": "17a121c6",
      "execution_count": null,
      "outputs": []
    },
    {
      "cell_type": "markdown",
      "metadata": {},
      "source": [
        "## 4) 법령구분에 따른 사무판단\n",
        "\n",
        "- 법령구분 종류: 3개\n",
        "    - 법령구분이 1인 경우 : 365424개\n",
        "    - 법령구분이 2인 경우 : 319805개\n",
        "    - 법령구분이 3인 경우 : 176395개\n"
      ],
      "id": "b72493a2"
    },
    {
      "cell_type": "code",
      "metadata": {},
      "source": [
        "def lawclass_judgment_graph(df):\n",
        "    groups = ['1', '2', '3']\n",
        "    values1 = [len(df.loc[(df['법령구분']==1) & (df['사무판단']==0) ]), len(df.loc[(df['법령구분']==2) & (df['사무판단']==0) ]), len(df.loc[(df['법령구분']==3) & (df['사무판단']==0) ])]\n",
        "    values2 = [len(df.loc[(df['법령구분']==1) & (df['사무판단']==1) ]), len(df.loc[(df['법령구분']==2) & (df['사무판단']==1) ]), len(df.loc[(df['법령구분']==3) & (df['사무판단']==1) ])]\n",
        "    fig, ax = plt.subplots(figsize=(3, 5))\n",
        "    colors = sns.color_palette('pastel')[3:5]\n",
        "\n",
        "    # stack bar 로 구성\n",
        "    ax.bar(groups, values1, color = colors[0])\n",
        "    ax.bar(groups, values2, bottom = values1, color = colors[1])\n",
        "    plt.title('법령구분에 따른 사무판단 여부 파악\\n\\n')\n",
        "    plt.xlabel('법령구분')\n",
        "    plt.ylabel('개수')\n",
        "    plt.legend(['사무가 아니다', '사무이다'], bbox_to_anchor=(1.7, 1))\n",
        "    plt.ylim([0,400000])\n",
        "    plt.yticks(np.arange(0, 500000, step=100000))\n",
        "    plt.show()"
      ],
      "id": "0d72b340",
      "execution_count": null,
      "outputs": []
    },
    {
      "cell_type": "code",
      "metadata": {},
      "source": [
        "lawclass_judgment_graph(data)"
      ],
      "id": "59d2af5e",
      "execution_count": null,
      "outputs": []
    },
    {
      "cell_type": "code",
      "metadata": {},
      "source": [
        "# def law_work_count(i):\n",
        "#     a = len(df.loc[(df['법령구분']==i) & (df['사무판단']==0), ])\n",
        "#     b = len(df.loc[(df['법령구분']==i) & (df['사무판단']==1), ])\n",
        "#     c = len(df.loc[(df['법령구분']==i) & (df['사무판단']==2), ])\n",
        "\n",
        "#     print(f\"법령 구분 {i}일때 ========\")\n",
        "#     print(f\"사무x: {a}\")\n",
        "#     print(f\"사무O: {b}\")\n",
        "#     print(f\"애매: {c}\")\n",
        "    \n",
        "\n",
        "#     result = [a, b, c]\n",
        "#     return result"
      ],
      "id": "6b296db7",
      "execution_count": null,
      "outputs": []
    },
    {
      "cell_type": "code",
      "metadata": {},
      "source": [
        "# result = []\n",
        "# for i in range(1, 4):\n",
        "#     result.append(law_work_count(i))\n",
        "# result"
      ],
      "id": "88cd9d26",
      "execution_count": null,
      "outputs": []
    },
    {
      "cell_type": "code",
      "metadata": {},
      "source": [
        "# # 법령 구분에 따른 사무판단 비율 계산\n",
        "# ratio_df = df.groupby(['법령구분', '사무판단']).size().unstack().T\n",
        "# ratio_df = ratio_df.div(ratio_df.sum(axis=1), axis=0)\n",
        "\n",
        "# # 비율을 시각화\n",
        "# ratio_df.T.plot(kind='bar', stacked=True)\n",
        "# plt.title('법령구분에 따른 사무판단 비율')\n",
        "# plt.xlabel('법령구분')\n",
        "# plt.ylabel('Administrative Decision')\n",
        "# plt.show()"
      ],
      "id": "8c77dcda",
      "execution_count": null,
      "outputs": []
    }
  ],
  "metadata": {
    "kernelspec": {
      "display_name": "Python 3",
      "language": "python",
      "name": "python3"
    }
  },
  "nbformat": 4,
  "nbformat_minor": 5
}
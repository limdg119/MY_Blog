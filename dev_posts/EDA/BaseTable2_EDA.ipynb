{
  "cells": [
    {
      "cell_type": "raw",
      "id": "0cc20f10",
      "metadata": {},
      "source": [
        "---\n",
        "title: Base Table을 활용한 EDA\n",
        "author: DG Lim\n",
        "date: '2023-11-28'\n",
        "categories:\n",
        "  - news\n",
        "  - analysis\n",
        "---"
      ]
    },
    {
      "cell_type": "markdown",
      "id": "ad103ad4",
      "metadata": {},
      "source": [
        "BaseTable_2.csv를 활용한 EDA\n",
        "\n",
        "## 0. 라이브러리 설치 및 데이터 불러오기\n"
      ]
    },
    {
      "cell_type": "code",
      "execution_count": null,
      "id": "717ff2a7",
      "metadata": {},
      "outputs": [],
      "source": [
        "# 필요 라이브러리 설치\n",
        "import pandas as pd\n",
        "import numpy as np\n",
        "import seaborn as sns\n",
        "import matplotlib.pyplot as plt\n",
        "import matplotlib.font_manager as fm\n",
        "from matplotlib import rc\n",
        "%matplotlib inline\n",
        "\n",
        "rc('font', family='AppleGothic')\n",
        "plt.rcParams['axes.unicode_minus'] = False"
      ]
    },
    {
      "cell_type": "code",
      "execution_count": null,
      "id": "890fc901",
      "metadata": {},
      "outputs": [],
      "source": [
        "# 데이터 load\n",
        "data = pd.read_csv('/Users/limdonggeon/Desktop/KPMG/Work/Law/data/BaseTable_2.csv')"
      ]
    },
    {
      "cell_type": "code",
      "execution_count": null,
      "id": "37e9d5c2",
      "metadata": {},
      "outputs": [],
      "source": [
        "data.info()"
      ]
    },
    {
      "cell_type": "markdown",
      "id": "4b6376e7",
      "metadata": {},
      "source": [
        "# 그래프 그리기\n",
        "\n",
        "## 1) 사무판단 개수 파악\n",
        "\n",
        "- 사무판단 종류: 3개\n",
        "    - 사무판단이 0인 경우 : 801598개\n",
        "    - 사무판단이 1인 경우 : 60023개\n",
        "    - 사무판단이 2인 경우 : 3개\n",
        "\n",
        "- 사무판단이 2인 경우 빼고 0과 1인 경우만 비교하기\n"
      ]
    },
    {
      "cell_type": "code",
      "execution_count": null,
      "id": "2a450ea7",
      "metadata": {},
      "outputs": [],
      "source": [
        "def judgment_graph(df):\n",
        "    # 전체 갯수\n",
        "    N = len(df)\n",
        "    \n",
        "    # 0의 비율, 1의 비율 계산하기\n",
        "    ratio_0 = (len(df[df['사무판단'] == 0]))/N *100\n",
        "    print(f\" 0의 비율 : {ratio_0}\")\n",
        "    ratio_1 = (len(df[df['사무판단'] == 1]))/N *100\n",
        "    print(f\" 1의 비율 : {ratio_1}\")\n",
        "    \n",
        "    # pie chart 생성\n",
        "    ratio = [ratio_0, ratio_1]\n",
        "    labels = [0,1]\n",
        "    explode = [0, 0.10]\n",
        "    colors = sns.color_palette('pastel')[3:5]\n",
        "    plt.pie(ratio, colors = colors, autopct='%.0f%%', startangle= 120, explode=explode)\n",
        "    plt.legend(['사무가 아니다', '사무이다'], bbox_to_anchor=(1.3, 1))\n",
        "    plt.title('\\n\\n 사무판단 비율 \\n')\n",
        "    plt.show()"
      ]
    },
    {
      "cell_type": "code",
      "execution_count": null,
      "id": "365c74d3",
      "metadata": {},
      "outputs": [],
      "source": [
        "judgment_graph(data)"
      ]
    },
    {
      "cell_type": "markdown",
      "id": "09cc6f57",
      "metadata": {},
      "source": [
        "##\n",
        "\n",
        "## 2) 소관부처명에 따른 사무판단\n",
        "\n",
        "- 소관부처명의 종류 : 122개\n",
        "- 사무가 가장 많은 5개 소관부처명 파악\n",
        "- 사무 비율이 가장 큰 5개 소관부처명 파악\n",
        "\n",
        "### 사무가 가장 많은 소관부처명 파악\n"
      ]
    },
    {
      "cell_type": "code",
      "execution_count": null,
      "id": "d4d27e9c",
      "metadata": {},
      "outputs": [],
      "source": [
        "def num_department_judgment_graph(df):\n",
        "    # 각 소관부처명 별 사무판단 갯수 파악\n",
        "    department_judgment = []\n",
        "    for ii in df['소관부처명'].unique():\n",
        "        department_count_0 = len(df.loc[(df['소관부처명']==ii) & (df['사무판단']==0)])\n",
        "        department_count_1 = len(df.loc[(df['소관부처명']==ii) & (df['사무판단']==1)])\n",
        "        # [1인 갯수, 0인 갯수, 1인 비율, 소관부처명]\n",
        "        department_judgment.append([department_count_1, department_count_0, department_count_1/(department_count_0+department_count_1), ii])\n",
        "    \n",
        "    # 사무가 가장 많은 소관부처명 파악\n",
        "    department_judgment.sort(key=lambda x:x[0], reverse = True)\n",
        "    \n",
        "    num_department_judgment = []\n",
        "    num_department = []\n",
        "    for i in range(len(department_judgment)):\n",
        "        num_department_judgment.append(department_judgment[i][0])\n",
        "        num_department.append(department_judgment[i][3])\n",
        "        \n",
        "    # 사무가 많은 소관부처명 순서대로 막대 그래프\n",
        "    fig, ax = plt.subplots(figsize=(7.5, 4.5))\n",
        "    colors = sns.color_palette('pastel')[4]\n",
        "    plt.bar(range(len(num_department_judgment)), num_department_judgment, color=colors)\n",
        "    plt.title('\\n\\n\\n 소관부처별 사무판단 개수 파악\\n')\n",
        "    plt.ylabel('개수')\n",
        "    plt.xlim([-1,len(num_department_judgment)])\n",
        "    plt.xticks([])\n",
        "    plt.ylim([0,6000]);\n",
        "    plt.yticks(np.arange(0, 6000, step=1000));\n",
        "    \n",
        "    # 사무가 가장 많은 소관부처명 5개 순서대로 막대 그래프\n",
        "    fig, ax = plt.subplots(figsize=(7.5, 4.5))\n",
        "    colors = sns.color_palette('pastel')[4]\n",
        "    bar = plt.bar(range(5), num_department_judgment[:5], color=colors)\n",
        "    plt.title('\\n\\n\\n 소관부처별 사무판단 Top5 개수 파악\\n')\n",
        "    plt.ylabel('개수')\n",
        "    plt.xlim([-0.5,4.5])\n",
        "    plt.xticks(np.arange(0, 5, 1), labels = [num_department[0],num_department[1],num_department[2],num_department[3],num_department[4]])\n",
        "    plt.ylim([0,6000]);\n",
        "    plt.yticks(np.arange(0, 6000, step=1000));\n",
        "    for rect in bar:\n",
        "        height = rect.get_height()\n",
        "        plt.text(rect.get_x() + rect.get_width()/2.0, height, '%d' % height, ha='center', va='bottom', size = 10)"
      ]
    },
    {
      "cell_type": "code",
      "execution_count": null,
      "id": "fc92409e",
      "metadata": {},
      "outputs": [],
      "source": [
        "num_department_judgment_graph(data)"
      ]
    },
    {
      "cell_type": "markdown",
      "id": "23451e9a",
      "metadata": {},
      "source": [
        "##\n",
        "\n",
        "### 사무비율이 가장 큰 소관부처명 파악\n"
      ]
    },
    {
      "cell_type": "code",
      "execution_count": null,
      "id": "f6761aea",
      "metadata": {},
      "outputs": [],
      "source": [
        "def ratio_department_judgment_graph(df):\n",
        "    # 각 소관부처명 별 사무판단 갯수 파악\n",
        "    department_judgment = []\n",
        "    for ii in df['소관부처명'].unique():\n",
        "        department_count_0 = len(df.loc[(df['소관부처명']==ii) & (df['사무판단']==0)])\n",
        "        department_count_1 = len(df.loc[(df['소관부처명']==ii) & (df['사무판단']==1)])\n",
        "        # [1인 갯수, 0인 갯수, 1인 비율, 소관부처명]\n",
        "        department_judgment.append([department_count_1, department_count_0, department_count_1/(department_count_0+department_count_1), ii])\n",
        "    \n",
        "    # 사무비율이 가장 큰 소관부처명 파악\n",
        "    department_judgment.sort(key=lambda x:x[2], reverse = True)\n",
        "    \n",
        "    ratio_department_judgment = []\n",
        "    ratio_department = []\n",
        "    for i in range(len(department_judgment)):\n",
        "        ratio_department_judgment.append(department_judgment[i][2])\n",
        "        ratio_department.append(department_judgment[i][3])\n",
        "        \n",
        "    # 사무가 많은 소관부처명 순서대로 막대 그래프\n",
        "    fig, ax = plt.subplots(figsize=(7.5, 4.5))\n",
        "    colors = sns.color_palette('pastel')[4]\n",
        "    plt.bar(range(len(ratio_department_judgment)), ratio_department_judgment, color=colors)\n",
        "    plt.title('\\n\\n\\n 소관부처별 사무판단 비율 파악\\n')\n",
        "    plt.ylabel('비율')\n",
        "    plt.xlim([-1,len(ratio_department_judgment)])\n",
        "    plt.xticks([])\n",
        "    plt.ylim([0,0.4]);\n",
        "    plt.yticks(np.arange(0, 0.5, step=0.1));\n",
        "    \n",
        "    # 사무가 가장 많은 소관부처명 5개 순서대로 막대 그래프\n",
        "    fig, ax = plt.subplots(figsize=(7.5, 4.5))\n",
        "    colors = sns.color_palette('pastel')[4]\n",
        "    bar = plt.bar(range(5), ratio_department_judgment[:5], color=colors)\n",
        "    plt.title('\\n\\n\\n 소관부처별 사무판단 Top5 비율 파악\\n')\n",
        "    plt.ylabel('비율')\n",
        "    plt.xlim([-0.5,4.5])\n",
        "    plt.xticks(np.arange(0, 5, 1), labels = [ratio_department[0].replace(',','\\n'),ratio_department[1].replace(',','\\n'),ratio_department[2].replace(',','\\n'),ratio_department[3].replace(',','\\n'),ratio_department[4].replace(',','\\n')])\n",
        "    plt.ylim([0,0.4]);\n",
        "    plt.yticks(np.arange(0, 0.5, step=0.1));\n",
        "    for rect in bar:\n",
        "        height = rect.get_height()\n",
        "        plt.text(rect.get_x() + rect.get_width()/2.0, height, '%.3f' % height, ha='center', va='bottom', size = 10)"
      ]
    },
    {
      "cell_type": "code",
      "execution_count": null,
      "id": "ef5bee6e",
      "metadata": {},
      "outputs": [],
      "source": [
        "ratio_department_judgment_graph(data)"
      ]
    },
    {
      "cell_type": "markdown",
      "id": "aa6ae4d3",
      "metadata": {},
      "source": [
        "##\n",
        "\n",
        "## 3) 법령명에 따른 사무판단\n",
        "\n",
        "- 법령명의 종류 : 4324개\n",
        "- 사무가 가장 많은 5개 법령명 파악\n",
        "- 사무 비율이 가장 큰 5개 법령명 파악\n",
        "\n",
        "### 사무가 가장 많은 법령명 파악\n"
      ]
    },
    {
      "cell_type": "code",
      "execution_count": null,
      "id": "16767725",
      "metadata": {},
      "outputs": [],
      "source": [
        "def num_lawname_judgment_graph(df):\n",
        "    # 각 법령명 별 사무판단 갯수 파악\n",
        "    lawname_judgment = []\n",
        "    for ii in df['법령명'].unique():\n",
        "        lawname_count_0 = len(df.loc[(df['법령명']==ii) & (df['사무판단']==0)])\n",
        "        lawname_count_1 = len(df.loc[(df['법령명']==ii) & (df['사무판단']==1)])\n",
        "        # [1인 갯수, 0인 갯수, 1인 비율, 법령명]\n",
        "        lawname_judgment.append([lawname_count_1, lawname_count_0, lawname_count_1/(lawname_count_0+lawname_count_1), ii])\n",
        "    \n",
        "    # 사무가 가장 많은 법령명 파악\n",
        "    lawname_judgment.sort(key=lambda x:x[0], reverse = True)\n",
        "    \n",
        "    num_lawname_judgment = []\n",
        "    num_lawname = []\n",
        "    for i in range(len(lawname_judgment)):\n",
        "        num_lawname_judgment.append(lawname_judgment[i][0])\n",
        "        num_lawname.append(lawname_judgment[i][3])\n",
        "        \n",
        "    # 사무가 많은 법령명 순서대로 막대 그래프\n",
        "    fig, ax = plt.subplots(figsize=(7.5, 4.5))\n",
        "    colors = sns.color_palette('pastel')[4]\n",
        "    plt.bar(range(len(num_lawname_judgment)), num_lawname_judgment, color=colors)\n",
        "    plt.title('\\n\\n\\n 법령명별 사무판단 개수 파악\\n')\n",
        "    plt.ylabel('개수')\n",
        "    plt.xlim([-1,len(num_lawname_judgment)])\n",
        "    plt.xticks([])\n",
        "    plt.ylim([0,400]);\n",
        "    plt.yticks(np.arange(0, 400, step=100));\n",
        "    \n",
        "    # 사무가 가장 많은 법령명 5개 순서대로 막대 그래프\n",
        "    fig, ax = plt.subplots(figsize=(7.5, 4.5))\n",
        "    colors = sns.color_palette('pastel')[4]\n",
        "    bar = plt.bar(range(5), num_lawname_judgment[:5], color=colors)\n",
        "    plt.title('\\n\\n\\n 법령명별 사무판단 Top5 개수 파악\\n')\n",
        "    plt.ylabel('개수')\n",
        "    plt.xlim([-0.5,4.5])\n",
        "    plt.xticks(np.arange(0, 5, 1), labels = ['\\n'+num_lawname[0],num_lawname[1],'\\n\\n'+num_lawname[2],num_lawname[3],'\\n'+num_lawname[4]])\n",
        "    plt.ylim([0,400]);\n",
        "    plt.yticks(np.arange(0, 400, step=100));\n",
        "    for rect in bar:\n",
        "        height = rect.get_height()\n",
        "        plt.text(rect.get_x() + rect.get_width()/2.0, height, '%d' % height, ha='center', va='bottom', size = 10)"
      ]
    },
    {
      "cell_type": "code",
      "execution_count": null,
      "id": "2a2d9d94",
      "metadata": {},
      "outputs": [],
      "source": [
        "num_lawname_judgment_graph(data)"
      ]
    },
    {
      "cell_type": "markdown",
      "id": "31398f8b",
      "metadata": {},
      "source": [
        "##\n",
        "\n",
        "### 사무비율이 가장 큰 법령명 파악\n"
      ]
    },
    {
      "cell_type": "code",
      "execution_count": null,
      "id": "92f462d3",
      "metadata": {},
      "outputs": [],
      "source": [
        "def ratio_lawname_judgment_graph(df):\n",
        "    # 각 법령명 별 사무판단 갯수 파악\n",
        "    lawname_judgment = []\n",
        "    for ii in df['법령명'].unique():\n",
        "        lawname_count_0 = len(df.loc[(df['법령명']==ii) & (df['사무판단']==0)])\n",
        "        lawname_count_1 = len(df.loc[(df['법령명']==ii) & (df['사무판단']==1)])\n",
        "        # [1인 갯수, 0인 갯수, 1인 비율, 법령명]\n",
        "        lawname_judgment.append([lawname_count_1, lawname_count_0, lawname_count_1/(lawname_count_0+lawname_count_1), ii])\n",
        "    \n",
        "    # 사무가 가장 많은 법령명 파악\n",
        "    lawname_judgment.sort(key=lambda x:x[2], reverse = True)\n",
        "    \n",
        "    ratio_lawname_judgment = []\n",
        "    ratio_lawname = []\n",
        "    for i in range(len(lawname_judgment)):\n",
        "        ratio_lawname_judgment.append(lawname_judgment[i][2])\n",
        "        ratio_lawname.append(lawname_judgment[i][3])\n",
        "\n",
        "    # 사무가 많은 법령명 순서대로 막대 그래프\n",
        "    fig, ax = plt.subplots(figsize=(7.5, 4.5))\n",
        "    colors = sns.color_palette('pastel')[4]\n",
        "    plt.bar(range(len(ratio_lawname_judgment)), ratio_lawname_judgment, color=colors)\n",
        "    plt.title('\\n\\n\\n 법령명별 사무판단 비율 파악\\n')\n",
        "    plt.ylabel('비율')\n",
        "    plt.xlim([-1,len(ratio_lawname_judgment)])\n",
        "    plt.xticks([])\n",
        "    plt.ylim([0,1.2]);\n",
        "    plt.yticks(np.arange(0, 1.2, step=0.2));\n",
        "    \n",
        "    # 사무가 가장 많은 법령명 5개 순서대로 막대 그래프\n",
        "    fig, ax = plt.subplots(figsize=(7.5, 4.5))\n",
        "    colors = sns.color_palette('pastel')[4]\n",
        "    bar = plt.bar(range(5), ratio_lawname_judgment[:5], color=colors)\n",
        "    plt.title('\\n\\n\\n 법령명별 사무판단 Top5 비율 파악\\n')\n",
        "    plt.ylabel('비율')\n",
        "    plt.xlim([-0.5,4.5])\n",
        "    plt.xticks(np.arange(0, 5, 1), labels = [ratio_lawname[0],'\\n'+ratio_lawname[1],'\\n\\n'+ratio_lawname[2],ratio_lawname[3],'\\n'+ratio_lawname[4]])\n",
        "    plt.ylim([0,1.2]);\n",
        "    plt.yticks(np.arange(0, 1.2, step=0.2));\n",
        "    for rect in bar:\n",
        "        height = rect.get_height()\n",
        "        plt.text(rect.get_x() + rect.get_width()/2.0, height, '%.3f' % height, ha='center', va='bottom', size = 10)"
      ]
    },
    {
      "cell_type": "code",
      "execution_count": null,
      "id": "8107d1f8",
      "metadata": {},
      "outputs": [],
      "source": [
        "ratio_lawname_judgment_graph(data)"
      ]
    },
    {
      "cell_type": "markdown",
      "id": "c06803ef",
      "metadata": {},
      "source": [
        "## 4) 법령구분에 따른 사무판단\n",
        "\n",
        "- 법령구분 종류: 3개\n",
        "    - 법령구분이 1인 경우 : 365424개\n",
        "    - 법령구분이 2인 경우 : 319805개\n",
        "    - 법령구분이 3인 경우 : 176395개\n"
      ]
    },
    {
      "cell_type": "code",
      "execution_count": null,
      "id": "5fbbb31d",
      "metadata": {},
      "outputs": [],
      "source": [
        "def lawclass_judgment_graph(df):\n",
        "    groups = ['1', '2', '3']\n",
        "    values1 = [len(df.loc[(df['법령구분']==1) & (df['사무판단']==0) ]), len(df.loc[(df['법령구분']==2) & (df['사무판단']==0) ]), len(df.loc[(df['법령구분']==3) & (df['사무판단']==0) ])]\n",
        "    values2 = [len(df.loc[(df['법령구분']==1) & (df['사무판단']==1) ]), len(df.loc[(df['법령구분']==2) & (df['사무판단']==1) ]), len(df.loc[(df['법령구분']==3) & (df['사무판단']==1) ])]\n",
        "    fig, ax = plt.subplots(figsize=(3, 5))\n",
        "    colors = sns.color_palette('pastel')[3:5]\n",
        "\n",
        "    # stack bar 로 구성\n",
        "    ax.bar(groups, values1, color = colors[0])\n",
        "    ax.bar(groups, values2, bottom = values1, color = colors[1])\n",
        "    plt.title('법령구분에 따른 사무판단 여부 파악\\n\\n')\n",
        "    plt.xlabel('법령구분')\n",
        "    plt.ylabel('개수')\n",
        "    plt.legend(['사무가 아니다', '사무이다'], bbox_to_anchor=(1.7, 1))\n",
        "    plt.ylim([0,400000])\n",
        "    plt.yticks(np.arange(0, 500000, step=100000))\n",
        "    plt.show()"
      ]
    },
    {
      "cell_type": "code",
      "execution_count": null,
      "id": "46d6070e",
      "metadata": {},
      "outputs": [],
      "source": [
        "lawclass_judgment_graph(data)"
      ]
    },
    {
      "cell_type": "code",
      "execution_count": null,
      "id": "0d2a6706",
      "metadata": {},
      "outputs": [],
      "source": [
        "# def law_work_count(i):\n",
        "#     a = len(df.loc[(df['법령구분']==i) & (df['사무판단']==0), ])\n",
        "#     b = len(df.loc[(df['법령구분']==i) & (df['사무판단']==1), ])\n",
        "#     c = len(df.loc[(df['법령구분']==i) & (df['사무판단']==2), ])\n",
        "\n",
        "#     print(f\"법령 구분 {i}일때 ========\")\n",
        "#     print(f\"사무x: {a}\")\n",
        "#     print(f\"사무O: {b}\")\n",
        "#     print(f\"애매: {c}\")\n",
        "    \n",
        "\n",
        "#     result = [a, b, c]\n",
        "#     return result"
      ]
    },
    {
      "cell_type": "code",
      "execution_count": null,
      "id": "8da85f05",
      "metadata": {},
      "outputs": [],
      "source": [
        "# result = []\n",
        "# for i in range(1, 4):\n",
        "#     result.append(law_work_count(i))\n",
        "# result"
      ]
    },
    {
      "cell_type": "code",
      "execution_count": null,
      "id": "b4bf7e09",
      "metadata": {},
      "outputs": [],
      "source": [
        "# # 법령 구분에 따른 사무판단 비율 계산\n",
        "# ratio_df = df.groupby(['법령구분', '사무판단']).size().unstack().T\n",
        "# ratio_df = ratio_df.div(ratio_df.sum(axis=1), axis=0)\n",
        "\n",
        "# # 비율을 시각화\n",
        "# ratio_df.T.plot(kind='bar', stacked=True)\n",
        "# plt.title('법령구분에 따른 사무판단 비율')\n",
        "# plt.xlabel('법령구분')\n",
        "# plt.ylabel('Administrative Decision')\n",
        "# plt.show()"
      ]
    }
  ],
  "metadata": {
    "kernelspec": {
      "display_name": "Python 3",
      "language": "python",
      "name": "python3"
    },
    "language_info": {
      "name": "python",
      "version": "3.10.9"
    }
  },
  "nbformat": 4,
  "nbformat_minor": 5
}
